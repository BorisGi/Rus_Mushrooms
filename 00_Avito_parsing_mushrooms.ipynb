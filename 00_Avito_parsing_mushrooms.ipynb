{
 "cells": [
  {
   "cell_type": "code",
   "execution_count": 1,
   "metadata": {},
   "outputs": [],
   "source": [
    "#Загружаем нужные библиотеки\n",
    "\n",
    "import pandas as pd\n",
    "\n",
    "import re\n",
    "\n",
    "from time import sleep"
   ]
  },
  {
   "cell_type": "code",
   "execution_count": 2,
   "metadata": {},
   "outputs": [],
   "source": [
    "from tqdm import tqdm_notebook"
   ]
  },
  {
   "cell_type": "code",
   "execution_count": 3,
   "metadata": {},
   "outputs": [],
   "source": [
    "from selenium.webdriver import Chrome\n",
    "from selenium.webdriver.support.ui import WebDriverWait as wait\n",
    "from selenium.common.exceptions import NoSuchElementException"
   ]
  },
  {
   "cell_type": "code",
   "execution_count": 4,
   "metadata": {},
   "outputs": [],
   "source": [
    "# подгружаем Хром\n",
    "\n",
    "driver = Chrome('C:/work/chromedriver/chromedriver.exe')"
   ]
  },
  {
   "cell_type": "markdown",
   "metadata": {},
   "source": [
    "Собственно грибы растут в 3-х категориях:\n",
    "\n",
    "1) Для дома и дачи — Продукты питания\n",
    "\n",
    "2) Для дома и дачи — Растения\n",
    "\n",
    "3) Личные вещи — Красота и здоровье\n",
    "\n",
    "4) Предложение услуг\n",
    "\n",
    "Также по запросам Мухомор и Чага во всех категориях.\n",
    "\n",
    "Ссылка содержит домен, регион, категорию, указание на страницу и хвост с запросом.\n",
    "\n",
    "Для первой части обрезаю ссылку до указания страницы \"?cd=1&p=\"\n",
    "\n",
    "вторая часть — запрос \"&q=грибы\"\n",
    "\n",
    "номер страницы подставляю циклом."
   ]
  },
  {
   "cell_type": "code",
   "execution_count": 5,
   "metadata": {},
   "outputs": [],
   "source": [
    "# разбиваю ссылку на 2 части\n",
    "\n",
    "# Продукты питания\n",
    "url_part_1 = 'https://www.avito.ru/rossiya/produkty_pitaniya?cd=1&p='\n",
    "\n",
    "# Растения\n",
    "#url_part_1 = 'https://www.avito.ru/rossiya/rasteniya?cd=1&p='\n",
    "\n",
    "# Красота и здоровье:\n",
    "#url_part_1 = 'https://www.avito.ru/rossiya/krasota_i_zdorove/kupit-bad-ASgBAgICAUSEAri~Ag?cd=1&p='\n",
    "\n",
    "# Красота и здоровье (медицинские изделия):\n",
    "#url_part_1 = 'https://www.avito.ru/rossiya/krasota_i_zdorove/kupit-meditsinskie_izdeliya-ASgBAgICAUSEAqgJ?cd=1&p='\n",
    "\n",
    "# Предложение услуг\n",
    "#url_part_1  = 'https://www.avito.ru/rossiya/predlozheniya_uslug?cd=1&p='\n",
    "\n",
    "# Другие грибы — первая часть ссылки — Продукты питания\n",
    "\n",
    "# вторая часть — одинаковая для всех\n",
    "#url_part_2 = '&q=грибы'\n",
    "\n",
    "# вторая часть для мухоморов и чаги\n",
    "#url_part_2 = '&q=мухомор'\n",
    "\n",
    "#url_part_2 = '&q=чага'\n",
    "\n",
    "#url_part_2 = '&q=трутовик'\n",
    "\n",
    "# вторая часть — одинаковая для всех\n",
    "#url_part_2 = '&q=опенок'\n",
    "\n",
    "#url_part_2 = '&q=подосиновик'\n",
    "\n",
    "#url_part_2 = '&q=масленок'\n",
    "\n",
    "#url_part_2 = '&q=подберезовик'\n",
    "\n",
    "#url_part_2 = '&q=лисичка'\n",
    "\n",
    "#url_part_2 = '&q=рыжик'\n",
    "\n",
    "#url_part_2 = '&q=груздь'\n",
    "\n",
    "#url_part_2 = '&q=вешенка'\n",
    "\n",
    "url_part_2 = '&q=волнушка'\n"
   ]
  },
  {
   "cell_type": "code",
   "execution_count": 6,
   "metadata": {},
   "outputs": [],
   "source": [
    "# Открываю страницу, чтобы посмотреть, сколько страниц\n",
    "\n",
    "driver.get(url_part_1 +str(1) +url_part_2)"
   ]
  },
  {
   "cell_type": "code",
   "execution_count": 7,
   "metadata": {},
   "outputs": [
    {
     "data": {
      "application/vnd.jupyter.widget-view+json": {
       "model_id": "d05d58b36ff94bad880b768eb18d8592",
       "version_major": 2,
       "version_minor": 0
      },
      "text/plain": [
       "HBox(children=(IntProgress(value=0, max=3), HTML(value='')))"
      ]
     },
     "metadata": {},
     "output_type": "display_data"
    },
    {
     "name": "stdout",
     "output_type": "stream",
     "text": [
      "\n",
      "Wall time: 25 s\n"
     ]
    }
   ],
   "source": [
    "%%time\n",
    "\n",
    "links = []\n",
    "\n",
    "\n",
    "# количество страниц для каждой категории нужно указать вручную\n",
    "\n",
    "for p in tqdm_notebook(range(1, 4)): # цикл для перехода по страницам, количество страниц нужно указать вручную\n",
    "    \n",
    "    url = url_part_1 +str(p) +url_part_2 # формирую ссылку на страницу с объявлениями\n",
    "    driver.get(url) # открываю эту страницу\n",
    "    sleep(3) # делаю паузу, даю прогрузиться\n",
    "    \n",
    "    # нахожу ссылки на объявления на странице\n",
    "    urls_list = driver.find_elements_by_class_name('iva-item-sliderLink-2hFV_')\n",
    "    \n",
    "    \n",
    "    for ads_url in urls_list:\n",
    "        links += [ads_url.get_attribute('href')]  \n",
    "    "
   ]
  },
  {
   "cell_type": "code",
   "execution_count": 8,
   "metadata": {},
   "outputs": [
    {
     "data": {
      "text/plain": [
       "['https://www.avito.ru/arhangelsk/produkty_pitaniya/volnushka_1384887866',\n",
       " 'https://www.avito.ru/uhta/produkty_pitaniya/gruzdi_i_volnushki_1804972271',\n",
       " 'https://www.avito.ru/berezniki/produkty_pitaniya/prodam_volnushki_2052251750',\n",
       " 'https://www.avito.ru/kotlas/produkty_pitaniya/volnushki_1977870555',\n",
       " 'https://www.avito.ru/arhangelsk/produkty_pitaniya/volnushki_2007254828']"
      ]
     },
     "execution_count": 8,
     "metadata": {},
     "output_type": "execute_result"
    }
   ],
   "source": [
    "# проверяю ссылки\n",
    "\n",
    "links[:5]"
   ]
  },
  {
   "cell_type": "code",
   "execution_count": 9,
   "metadata": {},
   "outputs": [
    {
     "data": {
      "text/plain": [
       "123"
      ]
     },
     "execution_count": 9,
     "metadata": {},
     "output_type": "execute_result"
    }
   ],
   "source": [
    "len(links)"
   ]
  },
  {
   "cell_type": "code",
   "execution_count": 10,
   "metadata": {},
   "outputs": [
    {
     "data": {
      "application/vnd.jupyter.widget-view+json": {
       "model_id": "e79d1225cd7b4e05aa59e8ba36f6cf96",
       "version_major": 2,
       "version_minor": 0
      },
      "text/plain": [
       "HBox(children=(IntProgress(value=0, max=123), HTML(value='')))"
      ]
     },
     "metadata": {},
     "output_type": "display_data"
    },
    {
     "name": "stdout",
     "output_type": "stream",
     "text": [
      "\n",
      "Wall time: 19min 18s\n"
     ]
    }
   ],
   "source": [
    "%%time\n",
    "\n",
    "# список для данных\n",
    "data = []\n",
    "\n",
    "\n",
    "for url in tqdm_notebook(links):\n",
    "    \n",
    "    driver.get(url)\n",
    "    sleep(5)\n",
    "\n",
    "   \n",
    "    try:\n",
    "        topic = driver.find_element_by_class_name('title-info-title-text').text\n",
    "        \n",
    "    except:\n",
    "        topic = 'нет'\n",
    "        \n",
    "    \n",
    "    try:\n",
    "        seller = driver.find_element_by_class_name('seller-info-name').text\n",
    "        \n",
    "    except:\n",
    "        seller = 'нет'\n",
    "        \n",
    "    \n",
    "    try:\n",
    "        city = driver.find_element_by_class_name('item-address__string').text\n",
    "    \n",
    "    except:\n",
    "        city = 'нет'\n",
    "    \n",
    "    \n",
    "    try:\n",
    "        ads_text = driver.find_element_by_class_name('item-description-text').text\n",
    "        \n",
    "    except:\n",
    "        ads_text = 'нет'\n",
    "            \n",
    "    try:\n",
    "        price = driver.find_element_by_xpath('/html/body/div[3]/div[1]/div[3]/div[4]/div[2]/div[1]/div/div[1]/div/div[1]/div/div/span/span[1]').text\n",
    "        \n",
    "    except:\n",
    "        price = 'нет'\n",
    "        \n",
    "    try:\n",
    "        user_url = driver.find_element_by_class_name('seller-info-name.js-seller-info-name').find_element_by_tag_name('a').get_attribute('href')\n",
    "    \n",
    "    except:\n",
    "        user_url = 'нет'\n",
    "    \n",
    "    \n",
    "    data.append([topic, city, ads_text, price, seller, user_url, url])  \n",
    "    "
   ]
  },
  {
   "cell_type": "code",
   "execution_count": 11,
   "metadata": {},
   "outputs": [],
   "source": [
    "# преобразовываю в датафрейм\n",
    "\n",
    "head = ['topic', 'city', 'ads_text', 'price', 'seller', 'user_id', 'url']\n",
    "df = pd.DataFrame(data, columns=head)"
   ]
  },
  {
   "cell_type": "code",
   "execution_count": 12,
   "metadata": {},
   "outputs": [
    {
     "data": {
      "text/plain": [
       "(123, 7)"
      ]
     },
     "execution_count": 12,
     "metadata": {},
     "output_type": "execute_result"
    }
   ],
   "source": [
    "df.shape"
   ]
  },
  {
   "cell_type": "code",
   "execution_count": 13,
   "metadata": {},
   "outputs": [
    {
     "data": {
      "text/html": [
       "<div>\n",
       "<style scoped>\n",
       "    .dataframe tbody tr th:only-of-type {\n",
       "        vertical-align: middle;\n",
       "    }\n",
       "\n",
       "    .dataframe tbody tr th {\n",
       "        vertical-align: top;\n",
       "    }\n",
       "\n",
       "    .dataframe thead th {\n",
       "        text-align: right;\n",
       "    }\n",
       "</style>\n",
       "<table border=\"1\" class=\"dataframe\">\n",
       "  <thead>\n",
       "    <tr style=\"text-align: right;\">\n",
       "      <th></th>\n",
       "      <th>topic</th>\n",
       "      <th>city</th>\n",
       "      <th>ads_text</th>\n",
       "      <th>price</th>\n",
       "      <th>seller</th>\n",
       "      <th>user_id</th>\n",
       "      <th>url</th>\n",
       "    </tr>\n",
       "  </thead>\n",
       "  <tbody>\n",
       "    <tr>\n",
       "      <th>95</th>\n",
       "      <td>Грибы соленые, маринованные,сухие домашние</td>\n",
       "      <td>Санкт-Петербург, пр-т Энергетиков, 31к2</td>\n",
       "      <td>Грибочки домашние.\\nСоленые,маринованные,сухие...</td>\n",
       "      <td>300</td>\n",
       "      <td>Частное лицо не Компания</td>\n",
       "      <td>https://www.avito.ru/user/6eadab818976e62b33fa...</td>\n",
       "      <td>https://www.avito.ru/sankt-peterburg/produkty_...</td>\n",
       "    </tr>\n",
       "    <tr>\n",
       "      <th>51</th>\n",
       "      <td>Ягоды замороженные, грибы соленые</td>\n",
       "      <td>Ленинградская область, Выборгский р-н, Выборгс...</td>\n",
       "      <td>Ягоды брусники замороженные сразу после сбора....</td>\n",
       "      <td>300</td>\n",
       "      <td>Валентина</td>\n",
       "      <td>https://www.avito.ru/user/f0a69eaf1708715f6dc3...</td>\n",
       "      <td>https://www.avito.ru/vyborg/produkty_pitaniya/...</td>\n",
       "    </tr>\n",
       "    <tr>\n",
       "      <th>67</th>\n",
       "      <td>Грибы</td>\n",
       "      <td>Ленинградская область, Выборгский р-н, Приморс...</td>\n",
       "      <td>Продам грибы.\\nСухие, маринованные, соленые.\\n...</td>\n",
       "      <td>нет</td>\n",
       "      <td>Елена</td>\n",
       "      <td>https://www.avito.ru/user/8e4fff7d715e89dbfe93...</td>\n",
       "      <td>https://www.avito.ru/leningradskaya_oblast_pri...</td>\n",
       "    </tr>\n",
       "  </tbody>\n",
       "</table>\n",
       "</div>"
      ],
      "text/plain": [
       "                                         topic  \\\n",
       "95  Грибы соленые, маринованные,сухие домашние   \n",
       "51           Ягоды замороженные, грибы соленые   \n",
       "67                                       Грибы   \n",
       "\n",
       "                                                 city  \\\n",
       "95            Санкт-Петербург, пр-т Энергетиков, 31к2   \n",
       "51  Ленинградская область, Выборгский р-н, Выборгс...   \n",
       "67  Ленинградская область, Выборгский р-н, Приморс...   \n",
       "\n",
       "                                             ads_text price  \\\n",
       "95  Грибочки домашние.\\nСоленые,маринованные,сухие...   300   \n",
       "51  Ягоды брусники замороженные сразу после сбора....   300   \n",
       "67  Продам грибы.\\nСухие, маринованные, соленые.\\n...   нет   \n",
       "\n",
       "                      seller  \\\n",
       "95  Частное лицо не Компания   \n",
       "51                 Валентина   \n",
       "67                     Елена   \n",
       "\n",
       "                                              user_id  \\\n",
       "95  https://www.avito.ru/user/6eadab818976e62b33fa...   \n",
       "51  https://www.avito.ru/user/f0a69eaf1708715f6dc3...   \n",
       "67  https://www.avito.ru/user/8e4fff7d715e89dbfe93...   \n",
       "\n",
       "                                                  url  \n",
       "95  https://www.avito.ru/sankt-peterburg/produkty_...  \n",
       "51  https://www.avito.ru/vyborg/produkty_pitaniya/...  \n",
       "67  https://www.avito.ru/leningradskaya_oblast_pri...  "
      ]
     },
     "execution_count": 13,
     "metadata": {},
     "output_type": "execute_result"
    }
   ],
   "source": [
    "df.sample(3)"
   ]
  },
  {
   "cell_type": "code",
   "execution_count": 14,
   "metadata": {},
   "outputs": [],
   "source": [
    "df.to_excel('C:/00_Projects/Rus_mushrooms/Parsing_results/Avito_2020_12_08/mushrooms_16.xlsx', encoding='utf8', index=False)"
   ]
  },
  {
   "cell_type": "code",
   "execution_count": null,
   "metadata": {},
   "outputs": [],
   "source": []
  }
 ],
 "metadata": {
  "kernelspec": {
   "display_name": "Python 3",
   "language": "python",
   "name": "python3"
  },
  "language_info": {
   "codemirror_mode": {
    "name": "ipython",
    "version": 3
   },
   "file_extension": ".py",
   "mimetype": "text/x-python",
   "name": "python",
   "nbconvert_exporter": "python",
   "pygments_lexer": "ipython3",
   "version": "3.7.4"
  }
 },
 "nbformat": 4,
 "nbformat_minor": 2
}
