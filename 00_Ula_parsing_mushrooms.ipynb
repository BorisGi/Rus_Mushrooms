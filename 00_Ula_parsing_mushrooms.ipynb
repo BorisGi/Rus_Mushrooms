{
 "cells": [
  {
   "cell_type": "code",
   "execution_count": null,
   "metadata": {},
   "outputs": [],
   "source": [
    "#Загружаю нужные библиотеки\n",
    "\n",
    "import pandas as pd\n",
    "\n",
    "from time import sleep\n",
    "from tqdm import tqdm_notebook\n",
    "import re"
   ]
  },
  {
   "cell_type": "code",
   "execution_count": null,
   "metadata": {},
   "outputs": [],
   "source": [
    "from selenium.webdriver import Chrome\n",
    "from selenium.webdriver.support.ui import WebDriverWait as wait\n",
    "from selenium.common.exceptions import NoSuchElementException"
   ]
  },
  {
   "cell_type": "code",
   "execution_count": null,
   "metadata": {},
   "outputs": [],
   "source": [
    "# гружу Хром\n",
    "\n",
    "driver = Chrome('C:/work/chromedriver/chromedriver.exe')"
   ]
  },
  {
   "cell_type": "code",
   "execution_count": null,
   "metadata": {},
   "outputs": [],
   "source": [
    "# ссылка\n",
    "\n",
    "#url = 'https://youla.ru/all/krasota-i-zdorove?q=%D0%B3%D1%80%D0%B8%D0%B1%D1%8B'\n",
    "\n",
    "#url = 'https://youla.ru/?q=%D0%BC%D1%83%D1%85%D0%BE%D0%BC%D0%BE%D1%80'\n",
    "\n",
    "url = 'https://youla.ru/?q=%D1%87%D0%B0%D0%B3%D0%B0'"
   ]
  },
  {
   "cell_type": "code",
   "execution_count": null,
   "metadata": {},
   "outputs": [],
   "source": [
    "# На открывшейся странице вручную выбираю Россию и прокручиваю объявления до конца\n",
    "\n",
    "driver.get(url)"
   ]
  },
  {
   "cell_type": "code",
   "execution_count": null,
   "metadata": {},
   "outputs": [],
   "source": [
    "# Вытаскиваю код страницы\n",
    "\n",
    "need = driver.page_source"
   ]
  },
  {
   "cell_type": "code",
   "execution_count": null,
   "metadata": {},
   "outputs": [],
   "source": [
    "list_urls = []\n",
    "list_urls += re.findall(r'/\\w+/krasota-i-zdorove/[A-Za-z0-9-_\\/]+', need)\n",
    "list_urls += re.findall(r'/\\w+/uslugi/[A-Za-z0-9-_]+/[A-Za-z0-9-_\\/]+', need)\n",
    "list_urls += re.findall(r'/all/krasota-i-zdorove/[A-Za-z0-9-_\\/]+', need)"
   ]
  },
  {
   "cell_type": "code",
   "execution_count": null,
   "metadata": {},
   "outputs": [],
   "source": [
    "len(list_urls)"
   ]
  },
  {
   "cell_type": "code",
   "execution_count": null,
   "metadata": {},
   "outputs": [],
   "source": [
    "list_urls[:5]"
   ]
  },
  {
   "cell_type": "code",
   "execution_count": null,
   "metadata": {},
   "outputs": [],
   "source": [
    "# В принципе, это можно делать в коде основного цикла, но мне нравится так \n",
    "\n",
    "# пустой список для урлов\n",
    "full_urls = []\n",
    "\n",
    "# цикл для создания полных урлов\n",
    "for full in list_urls:\n",
    "    full_urls += ['https://youla.ru' + full]"
   ]
  },
  {
   "cell_type": "code",
   "execution_count": null,
   "metadata": {},
   "outputs": [],
   "source": [
    "data = []\n",
    "\n",
    "for ads in tqdm_notebook(full_urls):\n",
    "    driver.get(ads) \n",
    "\n",
    "    sleep(2)\n",
    "    \n",
    "    try:\n",
    "        topic = driver.find_element_by_tag_name('h2').text\n",
    "    \n",
    "    except:\n",
    "        topic = 'нет'\n",
    "    \n",
    "    try:\n",
    "        price = driver.find_element_by_xpath('//span[@data-test-component=\"Price\"]').text\n",
    "        \n",
    "    except:\n",
    "        price = 'нет'\n",
    "    \n",
    "    try:\n",
    "        city = driver.find_element_by_class_name('sc-AxjAm.dkeILP').text\n",
    "        \n",
    "    except:\n",
    "        city = 'нет'\n",
    "        \n",
    "    try:\n",
    "        ads_text = driver.find_element_by_class_name('sc-fzowVh.equHBw').text\n",
    "        \n",
    "    except:\n",
    "        ads_text = 'нет'\n",
    "        \n",
    "    try:\n",
    "        seller = ads_text = driver.find_element_by_xpath('//a[@data-test-component=\"UserNameClick\"]').text\n",
    "        \n",
    "    except:\n",
    "        ads_text = 'нет'\n",
    "        \n",
    "    try:\n",
    "        user_id = ads_text = driver.find_element_by_xpath('//a[@data-test-component=\"UserNameClick\"]').get_attribute('href')\n",
    "        \n",
    "    except:\n",
    "        ads_text = 'нет'\n",
    "        \n",
    "    \n",
    "        \n",
    "    \n",
    "    data += [[topic, city, price, ads_text, seller, user_id, ads]]"
   ]
  },
  {
   "cell_type": "code",
   "execution_count": null,
   "metadata": {},
   "outputs": [],
   "source": [
    "# преобразовываем в датафрейм\n",
    "\n",
    "head = ['topic', 'city', 'price', 'ads_text', 'seller', 'user_id', 'ads_url']\n",
    "df = pd.DataFrame(data, columns=head)"
   ]
  },
  {
   "cell_type": "code",
   "execution_count": null,
   "metadata": {},
   "outputs": [],
   "source": [
    "df.shape"
   ]
  },
  {
   "cell_type": "code",
   "execution_count": null,
   "metadata": {},
   "outputs": [],
   "source": [
    "df"
   ]
  },
  {
   "cell_type": "code",
   "execution_count": null,
   "metadata": {},
   "outputs": [],
   "source": [
    "df.to_excel('C:/00_Projects/Rus_mushrooms/Parsing_results/Ula/mushrooms_ula_4.xlsx', encoding='utf8', index=False)"
   ]
  },
  {
   "cell_type": "code",
   "execution_count": null,
   "metadata": {},
   "outputs": [],
   "source": []
  }
 ],
 "metadata": {
  "kernelspec": {
   "display_name": "Python 3",
   "language": "python",
   "name": "python3"
  },
  "language_info": {
   "codemirror_mode": {
    "name": "ipython",
    "version": 3
   },
   "file_extension": ".py",
   "mimetype": "text/x-python",
   "name": "python",
   "nbconvert_exporter": "python",
   "pygments_lexer": "ipython3",
   "version": "3.7.4"
  }
 },
 "nbformat": 4,
 "nbformat_minor": 2
}
