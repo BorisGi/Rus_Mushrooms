{
 "cells": [
  {
   "cell_type": "code",
   "execution_count": 1,
   "metadata": {},
   "outputs": [],
   "source": [
    "#Загружаем нужные библиотеки\n",
    "\n",
    "import pandas as pd\n",
    "\n",
    "from time import sleep\n",
    "\n",
    "from tqdm import tqdm_notebook\n",
    "\n",
    "from selenium.webdriver import Chrome\n",
    "from selenium.webdriver.support.ui import WebDriverWait as wait\n",
    "from selenium.common.exceptions import NoSuchElementException\n",
    "\n",
    "import os\n",
    "import re"
   ]
  },
  {
   "cell_type": "code",
   "execution_count": 4,
   "metadata": {},
   "outputs": [],
   "source": [
    "# вытаскиваем названия файлов в список file_list\n",
    "\n",
    "path_ula = 'C:/00_Projects/Rus_mushrooms/Parsing_results/Ula/'\n",
    "file_list = []\n",
    "\n",
    "\n",
    "for root, dirs, files in os.walk(path_ula):\n",
    "    \n",
    "    for filename in files:\n",
    "        file_list += [filename]      "
   ]
  },
  {
   "cell_type": "code",
   "execution_count": 5,
   "metadata": {},
   "outputs": [
    {
     "name": "stdout",
     "output_type": "stream",
     "text": [
      "Wall time: 281 ms\n"
     ]
    }
   ],
   "source": [
    "%%time\n",
    "\n",
    "# преобразовываю и объединяю в один датафрейм\n",
    "\n",
    "mushrooms_ula = pd.DataFrame()\n",
    "\n",
    "for i in file_list:\n",
    "    temp = pd.read_excel(path_avito + i)\n",
    "    \n",
    "    mushrooms_ula = mushrooms_ula.append(temp, ignore_index = True)"
   ]
  },
  {
   "cell_type": "code",
   "execution_count": 7,
   "metadata": {},
   "outputs": [
    {
     "data": {
      "text/plain": [
       "(1733, 7)"
      ]
     },
     "execution_count": 7,
     "metadata": {},
     "output_type": "execute_result"
    }
   ],
   "source": [
    "mushrooms_ula.shape"
   ]
  },
  {
   "cell_type": "code",
   "execution_count": 8,
   "metadata": {},
   "outputs": [
    {
     "data": {
      "text/html": [
       "<div>\n",
       "<style scoped>\n",
       "    .dataframe tbody tr th:only-of-type {\n",
       "        vertical-align: middle;\n",
       "    }\n",
       "\n",
       "    .dataframe tbody tr th {\n",
       "        vertical-align: top;\n",
       "    }\n",
       "\n",
       "    .dataframe thead th {\n",
       "        text-align: right;\n",
       "    }\n",
       "</style>\n",
       "<table border=\"1\" class=\"dataframe\">\n",
       "  <thead>\n",
       "    <tr style=\"text-align: right;\">\n",
       "      <th></th>\n",
       "      <th>topic</th>\n",
       "      <th>city</th>\n",
       "      <th>price</th>\n",
       "      <th>ads_text</th>\n",
       "      <th>seller</th>\n",
       "      <th>user_id</th>\n",
       "      <th>ads_url</th>\n",
       "    </tr>\n",
       "  </thead>\n",
       "  <tbody>\n",
       "    <tr>\n",
       "      <th>393</th>\n",
       "      <td>Чайный гриб</td>\n",
       "      <td>Псков</td>\n",
       "      <td>300 ₽</td>\n",
       "      <td>https://youla.ru/user/58b439925bd2e92375f04f7f</td>\n",
       "      <td>Маргарита Ш. (3 объявления)</td>\n",
       "      <td>https://youla.ru/user/58b439925bd2e92375f04f7f</td>\n",
       "      <td>https://youla.ru/pskov/uslugi/produkty-pitaniy...</td>\n",
       "    </tr>\n",
       "    <tr>\n",
       "      <th>1128</th>\n",
       "      <td>нет</td>\n",
       "      <td>нет</td>\n",
       "      <td>нет</td>\n",
       "      <td>нет</td>\n",
       "      <td>Антисептик Москва (1729 объявлений)</td>\n",
       "      <td>https://youla.ru/user/5f1155d51f2ccf35a328a1f8</td>\n",
       "      <td>https://youla.ru/moskva/krasota-i-zdorove/sred...</td>\n",
       "    </tr>\n",
       "    <tr>\n",
       "      <th>881</th>\n",
       "      <td>Антисептик для рук</td>\n",
       "      <td>Москва</td>\n",
       "      <td>50 ₽</td>\n",
       "      <td>https://youla.ru/user/5f1155d51f2ccf35a328a1f8</td>\n",
       "      <td>Антисептик Москва (1729 объявлений)</td>\n",
       "      <td>https://youla.ru/user/5f1155d51f2ccf35a328a1f8</td>\n",
       "      <td>https://youla.ru/moskva/krasota-i-zdorove/sred...</td>\n",
       "    </tr>\n",
       "  </tbody>\n",
       "</table>\n",
       "</div>"
      ],
      "text/plain": [
       "                   topic    city  price  \\\n",
       "393          Чайный гриб   Псков  300 ₽   \n",
       "1128                 нет     нет    нет   \n",
       "881   Антисептик для рук  Москва   50 ₽   \n",
       "\n",
       "                                            ads_text  \\\n",
       "393   https://youla.ru/user/58b439925bd2e92375f04f7f   \n",
       "1128                                             нет   \n",
       "881   https://youla.ru/user/5f1155d51f2ccf35a328a1f8   \n",
       "\n",
       "                                   seller  \\\n",
       "393           Маргарита Ш. (3 объявления)   \n",
       "1128  Антисептик Москва (1729 объявлений)   \n",
       "881   Антисептик Москва (1729 объявлений)   \n",
       "\n",
       "                                             user_id  \\\n",
       "393   https://youla.ru/user/58b439925bd2e92375f04f7f   \n",
       "1128  https://youla.ru/user/5f1155d51f2ccf35a328a1f8   \n",
       "881   https://youla.ru/user/5f1155d51f2ccf35a328a1f8   \n",
       "\n",
       "                                                ads_url  \n",
       "393   https://youla.ru/pskov/uslugi/produkty-pitaniy...  \n",
       "1128  https://youla.ru/moskva/krasota-i-zdorove/sred...  \n",
       "881   https://youla.ru/moskva/krasota-i-zdorove/sred...  "
      ]
     },
     "execution_count": 8,
     "metadata": {},
     "output_type": "execute_result"
    }
   ],
   "source": [
    "mushrooms_ula.sample(3)"
   ]
  },
  {
   "cell_type": "code",
   "execution_count": 9,
   "metadata": {},
   "outputs": [],
   "source": [
    "mushrooms_ula = mushrooms_ula.drop_duplicates()"
   ]
  },
  {
   "cell_type": "code",
   "execution_count": 10,
   "metadata": {},
   "outputs": [
    {
     "data": {
      "text/plain": [
       "(1604, 7)"
      ]
     },
     "execution_count": 10,
     "metadata": {},
     "output_type": "execute_result"
    }
   ],
   "source": [
    "mushrooms_ula.shape"
   ]
  },
  {
   "cell_type": "code",
   "execution_count": null,
   "metadata": {},
   "outputs": [],
   "source": []
  },
  {
   "cell_type": "code",
   "execution_count": 12,
   "metadata": {},
   "outputs": [
    {
     "name": "stderr",
     "output_type": "stream",
     "text": [
      "C:\\Users\\Boris\\Anaconda3\\lib\\site-packages\\pandas\\core\\generic.py:5165: SettingWithCopyWarning: \n",
      "A value is trying to be set on a copy of a slice from a DataFrame.\n",
      "Try using .loc[row_indexer,col_indexer] = value instead\n",
      "\n",
      "See the caveats in the documentation: https://pandas.pydata.org/pandas-docs/stable/user_guide/indexing.html#returning-a-view-versus-a-copy\n",
      "  self[name] = value\n"
     ]
    }
   ],
   "source": [
    "# меняю ё на е\n",
    "\n",
    "mushrooms_ula.topic = mushrooms_ula.topic.str.replace('ё', 'е')\n",
    "mushrooms_ula.ads_text = mushrooms_ula.ads_text.str.replace('ё', 'е')"
   ]
  },
  {
   "cell_type": "code",
   "execution_count": 13,
   "metadata": {},
   "outputs": [],
   "source": [
    "# список грибов (включая чайный и рейши с кордицепсом)\n",
    "\n",
    "all_mushrooms = [\n",
    "    'amanita',\n",
    "    'chaga',\n",
    "    'ganoderma',\n",
    "    'grifola',\n",
    "    'maitake',\n",
    "    'reish',\n",
    "    'shiitake',\n",
    "    'агарик бразильский',\n",
    "    'агарикус',\n",
    "    'аманита',\n",
    "    'антродия',\n",
    "    'бeлые',\n",
    "    'баран',\n",
    "    'белого',\n",
    "    'белые',\n",
    "    'белый',\n",
    "    'белыми',\n",
    "    'белых',\n",
    "    'белянк',\n",
    "    'боровик',\n",
    "    'бычки',\n",
    "    'валуи',\n",
    "    'валуй',\n",
    "    'веселк',\n",
    "    'веселуш',\n",
    "    'вешенк',\n",
    "    'волжанк',\n",
    "    'волнух',\n",
    "    'волнуш',\n",
    "    'вороночник',\n",
    "    'ганодерм',\n",
    "    'гериций',\n",
    "    'герициум',\n",
    "    'гигрофор',\n",
    "    'гладушк',\n",
    "    'гладыш',\n",
    "    'говорушк',\n",
    "    'головач',\n",
    "    'горькушк',\n",
    "    'гребенчатый',\n",
    "    'грузд',\n",
    "    'дождевик',\n",
    "    'дорогие',\n",
    "    'дубовик',\n",
    "    'дуники',\n",
    "    'дуньк',\n",
    "    'ежевик',\n",
    "    'ежовик',\n",
    "    'еловик',\n",
    "    'забалуйк',\n",
    "    'заболуйк',\n",
    "    'зеленух',\n",
    "    'зеленушк',\n",
    "    'зонтик',\n",
    "    'камбуч',\n",
    "    'колпак',\n",
    "    'комбуч',\n",
    "    'кордицепс',\n",
    "    'коровник',\n",
    "    'красноголовик',\n",
    "    'кубар',\n",
    "    'кубышк',\n",
    "    'кулаки',\n",
    "    'кулачки',\n",
    "    'кулачок',\n",
    "    'кулочки',\n",
    "    'линчжи',\n",
    "    'липовк',\n",
    "    'лисичк',\n",
    "    'лубянк',\n",
    "    'майка',\n",
    "    'майтак',\n",
    "    'майтаке',\n",
    "    'масленок',\n",
    "    'маслят',\n",
    "    'мацутак',\n",
    "    'медвежье',\n",
    "    'мейтаке',\n",
    "    'микродозинг',\n",
    "    'млечник',\n",
    "    'молочник',\n",
    "    'морозик',\n",
    "    'мослят',\n",
    "    'моховик',\n",
    "    'мухомор',\n",
    "    'навозник',\n",
    "    'обабк',\n",
    "    'опенок',\n",
    "    'опят',\n",
    "    'пантерн',\n",
    "    'паутиник',\n",
    "    'паутинник',\n",
    "    'песочник',\n",
    "    'песчаник',\n",
    "    'поганк',\n",
    "    'податавник',\n",
    "    'подберезовик',\n",
    "    'подгрузок',\n",
    "    'поддубник',\n",
    "    'поддубовик',\n",
    "    'подорешник',\n",
    "    'подосиновик',\n",
    "    'подотавник',\n",
    "    'подтопол',\n",
    "    'полубел.',\n",
    "    'польский',\n",
    "    'попутк',\n",
    "    'попутниц',\n",
    "    'рейш',\n",
    "    'рыжик',\n",
    "    'рядовк',\n",
    "    'свинар',\n",
    "    'свину',\n",
    "    'серух',\n",
    "    'серушк',\n",
    "    'серянк',\n",
    "    'синеножк',\n",
    "    'синявк',\n",
    "    'синяя ножка',\n",
    "    'сморч',\n",
    "    'солонушк',\n",
    "    'соплюшки',\n",
    "    'строфария',\n",
    "    'строч',\n",
    "    'сыраешк',\n",
    "    'сыроежк',\n",
    "    'трамет',\n",
    "    'трутовик берез.',\n",
    "    'трутовик лакированный',\n",
    "    'трутовик лиственничный',\n",
    "    'трутовик ложный дубовый',\n",
    "    'трутовик настоящий',\n",
    "    'трутовик неизв.',\n",
    "    'трутовик окаймленный',\n",
    "    'трутовик осиновый',\n",
    "    'трутовик плоский',\n",
    "    'трутовик серно-желтый',\n",
    "    'трутовик смолистый',\n",
    "    'трутовик сосновый',\n",
    "    'трутовик яблоневый',\n",
    "    'трюфел',\n",
    "    'турки',\n",
    "    'фламмулин',\n",
    "    'чаг',\n",
    "    'чайный',\n",
    "    'чернушк',\n",
    "    'чесночник',\n",
    "    'чешутчатк',\n",
    "    'чинарик',\n",
    "    'шампин',\n",
    "    'шиитак',\n",
    "    'шитаки',\n",
    "    'эноки',\n",
    "    'ярсагумба'\n",
    "]"
   ]
  },
  {
   "cell_type": "code",
   "execution_count": 14,
   "metadata": {},
   "outputs": [
    {
     "data": {
      "text/plain": [
       "154"
      ]
     },
     "execution_count": 14,
     "metadata": {},
     "output_type": "execute_result"
    }
   ],
   "source": [
    "len(all_mushrooms)"
   ]
  },
  {
   "cell_type": "code",
   "execution_count": 15,
   "metadata": {},
   "outputs": [],
   "source": [
    "# словарь грибов: словоформа или синоним — название гриба (понадобится позже)\n",
    "\n",
    "mushrooms_dict = {\n",
    "    'amanita': 'мухомор',\n",
    "    'chaga': 'чага',\n",
    "    'ganoderma': 'трутовик лакированный (рейши)',\n",
    "    'grifola': 'грифола',\n",
    "    'maitake': 'грифола',\n",
    "    'reish': 'трутовик лакированный (рейши)',\n",
    "    'shiitake': 'шиитаке',\n",
    "    'агарик бразильский': 'агарик бразильский',\n",
    "    'агарикус': 'трутовик лиственничный',\n",
    "    'аманита': 'мухомор',\n",
    "    'антродия': 'антродия',\n",
    "    'бeлые': 'белый',\n",
    "    'баран': 'грифола',\n",
    "    'белого': 'белый',\n",
    "    'белые': 'белый',\n",
    "    'белый': 'белый',\n",
    "    'белыми': 'белый',\n",
    "    'белых': 'белый',\n",
    "    'белянк': 'волнушка белая',\n",
    "    'боровик': 'белый',\n",
    "    'бычки': 'валуй',\n",
    "    'валуи': 'валуй',\n",
    "    'валуй': 'валуй',\n",
    "    'веселк': 'веселка',\n",
    "    'веселуш': 'веселка',\n",
    "    'вешенк': 'вешенка',\n",
    "    'волжанк': 'волнушка розовая',\n",
    "    'волнух': 'волнушка',\n",
    "    'волнуш': 'волнушка',\n",
    "    'вороночник': 'вороночник',\n",
    "    'ганодерм': 'трутовик лакированный (рейши)',\n",
    "    'гериций': 'ежовик',\n",
    "    'герициум': 'ежовик',\n",
    "    'гигрофор': 'гигрофор',\n",
    "    'гладушк': 'млечник',\n",
    "    'гладыш': 'млечник',\n",
    "    'говорушк': 'говорушка (рядовка)',\n",
    "    'головач': 'головач (шампиньон)',\n",
    "    'горькушк': 'горькушка (рядовка)',\n",
    "    'гребенчатый': 'ежовик',\n",
    "    'грузд': 'груздь',\n",
    "    'дождевик': 'дождевик',\n",
    "    'дорогие': 'белый',\n",
    "    'дубовик': 'дубовик',\n",
    "    'дуники': 'свинушка тонкая',\n",
    "    'дуньк': 'свинушка тонкая',\n",
    "    'ежевик': 'ежовик',\n",
    "    'ежовик': 'ежовик',\n",
    "    'еловик': 'еловик',\n",
    "    'забалуйк': 'рядовка тополевая',\n",
    "    'заболуйк': 'рядовка тополевая',\n",
    "    'зеленух': 'зеленушка (рядовка)',\n",
    "    'зеленушк': 'зеленушка (рядовка)',\n",
    "    'зонтик': 'зонтик',\n",
    "    'камбуч': 'чайный гриб',\n",
    "    'колпак': 'колпак кольчатый',\n",
    "    'комбуч': 'чайный гриб',    \n",
    "    'кордицепс': 'кордицепс',\n",
    "    'коровник': 'свинушка тонкая',\n",
    "    'красноголовик': 'подосиновик',\n",
    "    'кубар': 'валуй',\n",
    "    'кубышк': 'валуй',\n",
    "    'кулаки': 'валуй',\n",
    "    'кулачки': 'валуй', \n",
    "    'кулачок': 'валуй',\n",
    "    'кулочки': 'валуй',\n",
    "    'линчжи': 'трутовик лакированный (рейши)',\n",
    "    'липовк': 'липовка',\n",
    "    'лисичк': 'лисичка',\n",
    "    'лубянк': 'горькушка (рядовка)',\n",
    "    'майка': 'рядовка майская',\n",
    "    'майтак': 'грифола',\n",
    "    'майтаке': 'грифола',\n",
    "    'масленок': 'масленок',\n",
    "    'маслят': 'масленок',\n",
    "    'мацутак': 'мацутакэ',\n",
    "    'медвежье': 'медвежье ушко',\n",
    "    'мейтаке': 'грифола',\n",
    "    'микродозинг': 'мухомор',\n",
    "    'млечник': 'млечник',\n",
    "    'молочник': 'млечник',\n",
    "    'морозик': 'рядовка тополевая',\n",
    "    'мослят': 'масленок',\n",
    "    'моховик': 'моховик',\n",
    "    'мухомор': 'мухомор',\n",
    "    'навозник': 'навозник',\n",
    "    'обабк': 'обабок',\n",
    "    'опенок': 'опенок',\n",
    "    'опят': 'опенок',\n",
    "    'пантерн': 'мухомор', \n",
    "    'паутиник': 'паутинник',\n",
    "    'паутинник': 'паутинник',\n",
    "    'песочник': 'рядовка тополевая',\n",
    "    'песчаник': 'рядовка тополевая',\n",
    "    'поганк': 'бледная поганка',\n",
    "    'податавник': 'рядовка лиловоногая',\n",
    "    'подберезовик': 'подберезовик',\n",
    "    'подгрузок': 'подгруздок (сыроежка)',\n",
    "    'поддубник': 'дубовик',\n",
    "    'поддубовик': 'дубовик',\n",
    "    'подорешник': 'подорешник',\n",
    "    'подосиновик': 'подосиновик',\n",
    "    'подотавник': 'рядовка лиловоногая',\n",
    "    'подтопол': 'рядовка тополевая',\n",
    "    'полубел.': 'полубелый',\n",
    "    'польский': 'польский гриб',\n",
    "    'попутк': 'серушка',\n",
    "    'попутниц': 'серушка',\n",
    "    'рейш': 'трутовик лакированный (рейши)',\n",
    "    'рыжик': 'рыжик',\n",
    "    'рядовк': 'рядовка',\n",
    "    'свинар': 'свинушка тонкая',\n",
    "    'свину': 'свинушка тонкая',\n",
    "    'серух': 'серушка',\n",
    "    'серушк': 'серушка',\n",
    "    'серянк': 'серушка',\n",
    "    'синеножк': 'рядовка лиловоногая',\n",
    "    'синявк': 'сыроежка',\n",
    "    'синяя ножка': 'рядовка лиловоногая',\n",
    "    'сморч': 'сморчок',\n",
    "    'солонушк': 'волнушка',\n",
    "    'соплюшки': 'валуй',\n",
    "    'строфария': 'строфария',\n",
    "    'строч': 'строчок',\n",
    "    'сыраешк': 'сыроежка',\n",
    "    'сыроежк': 'сыроежка',\n",
    "    'трамет': 'трутовик разноцветный',\n",
    "    'трутовик берез.': 'трутовик березовый',\n",
    "    'трутовик лакированный': 'трутовик лакированный (рейши)',\n",
    "    'трутовик лиственничный': 'трутовик лиственничный',\n",
    "    'трутовик ложный дубовый': 'трутовик ложный дубовый',\n",
    "    'трутовик настоящий': 'трутовик окаймленный',\n",
    "    'трутовик неизв.': 'просто трутовик',\n",
    "    'трутовик окаймленный': 'трутовик окаймленный',\n",
    "    'трутовик осиновый': 'трутовик осиновый',\n",
    "    'трутовик плоский': 'трутовик плоский',\n",
    "    'трутовик серно-желтый': 'трутовик серно-желтый',\n",
    "    'трутовик смолистый': 'трутовик смолистый',\n",
    "    'трутовик сосновый': 'трутовик окаймленный',\n",
    "    'трутовик яблоневый': 'трутовик яблоневый',\n",
    "    'трюфел': 'трюфель',\n",
    "    'турки': 'колпак кольчатый',\n",
    "    'фламмулин': 'фламмулина',\n",
    "    'чаг': 'чага',\n",
    "    'чайный': 'чайный гриб',\n",
    "    'чесночник': 'чесночник',\n",
    "    'чернушк': 'черный груздь',\n",
    "    'чешутчатк': 'чешутчатка',\n",
    "    'чинарик': 'вешенка',\n",
    "    'шампин': 'шампиньон',\n",
    "    'шиитак': 'шиитаке',\n",
    "    'шитаки': 'шиитаке',\n",
    "    'эноки': 'фламмулина',\n",
    "    'ярсагумба': 'кордицепс'\n",
    "}"
   ]
  },
  {
   "cell_type": "code",
   "execution_count": 16,
   "metadata": {},
   "outputs": [
    {
     "data": {
      "text/plain": [
       "154"
      ]
     },
     "execution_count": 16,
     "metadata": {},
     "output_type": "execute_result"
    }
   ],
   "source": [
    "len(mushrooms_dict)"
   ]
  },
  {
   "cell_type": "code",
   "execution_count": 17,
   "metadata": {},
   "outputs": [
    {
     "name": "stdout",
     "output_type": "stream",
     "text": [
      "Wall time: 677 ms\n"
     ]
    }
   ],
   "source": [
    "%%time\n",
    "\n",
    "# циклом выбираю нужные строки\n",
    "\n",
    "\n",
    "work_mushrooms_ula = pd.DataFrame()\n",
    "\n",
    "for mushroom in all_mushrooms:\n",
    "    temp_1 = mushrooms_ula[(mushrooms_ula.topic.str.contains(mushroom, case=False))]\n",
    "    temp_2 = mushrooms_ula[(mushrooms_ula.ads_text.str.contains(mushroom, case=False, na=False))]\n",
    "    \n",
    "    work_mushrooms_ula = work_mushrooms_ula.append(temp_1, ignore_index=True)\n",
    "    work_mushrooms_ula = work_mushrooms_ula.append(temp_2, ignore_index=True)"
   ]
  },
  {
   "cell_type": "code",
   "execution_count": 18,
   "metadata": {},
   "outputs": [
    {
     "data": {
      "text/plain": [
       "(905, 7)"
      ]
     },
     "execution_count": 18,
     "metadata": {},
     "output_type": "execute_result"
    }
   ],
   "source": [
    "work_mushrooms_ula.shape"
   ]
  },
  {
   "cell_type": "code",
   "execution_count": 19,
   "metadata": {},
   "outputs": [],
   "source": [
    "# удаляю дубликаты\n",
    "\n",
    "work_mushrooms_ula = work_mushrooms_ula.drop_duplicates()"
   ]
  },
  {
   "cell_type": "code",
   "execution_count": 20,
   "metadata": {},
   "outputs": [
    {
     "data": {
      "text/plain": [
       "(823, 7)"
      ]
     },
     "execution_count": 20,
     "metadata": {},
     "output_type": "execute_result"
    }
   ],
   "source": [
    "work_mushrooms_ula.shape"
   ]
  },
  {
   "cell_type": "code",
   "execution_count": 21,
   "metadata": {},
   "outputs": [],
   "source": [
    "# сохраняю в файл, чтобы дочистить вручную\n",
    "\n",
    "#work_mushrooms_ula.to_excel('C:/00_Projects/Rus_mushrooms/ula.xlsx', index=False)"
   ]
  },
  {
   "cell_type": "code",
   "execution_count": 22,
   "metadata": {},
   "outputs": [],
   "source": [
    "# сохраняю в файл, чтобы дочистить вручную\n",
    "\n",
    "temp = pd.read_excel('C:/00_Projects/Rus_mushrooms/ula.xlsx', sheet_name='work_ula')"
   ]
  },
  {
   "cell_type": "code",
   "execution_count": 31,
   "metadata": {},
   "outputs": [],
   "source": [
    "temp.topic = temp.topic.str.replace('  ', ' ')\n",
    "temp.topic = temp.topic.str.lower()"
   ]
  },
  {
   "cell_type": "code",
   "execution_count": 32,
   "metadata": {},
   "outputs": [],
   "source": [
    "# функция, которая указывает виды грибов в объявлениях\n",
    "\n",
    "def find_need_root(column):\n",
    "    words = []\n",
    "    for root in all_mushrooms:\n",
    "        if root in str(column.topic):\n",
    "            words += [mushrooms_dict[root]]\n",
    "            \n",
    "    words = list(set(words))\n",
    "    words.sort()\n",
    "    mushrooms = ' '.join(words)\n",
    "    \n",
    "    return words"
   ]
  },
  {
   "cell_type": "code",
   "execution_count": 33,
   "metadata": {},
   "outputs": [
    {
     "name": "stdout",
     "output_type": "stream",
     "text": [
      "Wall time: 646 ms\n"
     ]
    }
   ],
   "source": [
    "%%time\n",
    "\n",
    "# добавляю стобец с видами грибов в объявлении\n",
    "\n",
    "temp['mushrooms'] = temp.apply(find_need_root, axis=1)"
   ]
  },
  {
   "cell_type": "code",
   "execution_count": 36,
   "metadata": {},
   "outputs": [],
   "source": [
    "# группирую по id продавца и суммирую виды грибов\n",
    "\n",
    "temp_1 = (temp\n",
    "          .groupby(['user_id'], as_index=False)\n",
    "          .agg({'mushrooms':'sum'})\n",
    "         )"
   ]
  },
  {
   "cell_type": "code",
   "execution_count": 37,
   "metadata": {},
   "outputs": [],
   "source": [
    "# функция для удаления повторов\n",
    "\n",
    "def drop_duplicates_mushrooms(df):\n",
    "    new = list(set(df.mushrooms))\n",
    "    new.sort()\n",
    "    \n",
    "    return new"
   ]
  },
  {
   "cell_type": "code",
   "execution_count": 39,
   "metadata": {},
   "outputs": [],
   "source": [
    "temp_1['mushroom_types'] = temp_1.apply(drop_duplicates_mushrooms, axis=1)"
   ]
  },
  {
   "cell_type": "code",
   "execution_count": 40,
   "metadata": {},
   "outputs": [],
   "source": [
    "#temp_1.to_excel('C:/00_Projects/Rus_mushrooms/temp.xlsx', index=False)"
   ]
  },
  {
   "cell_type": "code",
   "execution_count": null,
   "metadata": {},
   "outputs": [],
   "source": []
  },
  {
   "cell_type": "code",
   "execution_count": null,
   "metadata": {},
   "outputs": [],
   "source": []
  },
  {
   "cell_type": "code",
   "execution_count": null,
   "metadata": {},
   "outputs": [],
   "source": []
  }
 ],
 "metadata": {
  "kernelspec": {
   "display_name": "Python 3",
   "language": "python",
   "name": "python3"
  },
  "language_info": {
   "codemirror_mode": {
    "name": "ipython",
    "version": 3
   },
   "file_extension": ".py",
   "mimetype": "text/x-python",
   "name": "python",
   "nbconvert_exporter": "python",
   "pygments_lexer": "ipython3",
   "version": "3.7.4"
  }
 },
 "nbformat": 4,
 "nbformat_minor": 2
}
