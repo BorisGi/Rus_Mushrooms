{
 "cells": [
  {
   "cell_type": "code",
   "execution_count": 1,
   "metadata": {
    "scrolled": true
   },
   "outputs": [],
   "source": [
    "import pandas as pd"
   ]
  },
  {
   "cell_type": "code",
   "execution_count": 2,
   "metadata": {},
   "outputs": [],
   "source": [
    "# Загружаю объединенный датасет\n",
    "\n",
    "mushrooms_avito = pd.read_excel('C:/00_Projects/Rus_mushrooms/Avito.xlsx', sheet_name='avito')"
   ]
  },
  {
   "cell_type": "code",
   "execution_count": 3,
   "metadata": {},
   "outputs": [
    {
     "data": {
      "text/html": [
       "<div>\n",
       "<style scoped>\n",
       "    .dataframe tbody tr th:only-of-type {\n",
       "        vertical-align: middle;\n",
       "    }\n",
       "\n",
       "    .dataframe tbody tr th {\n",
       "        vertical-align: top;\n",
       "    }\n",
       "\n",
       "    .dataframe thead th {\n",
       "        text-align: right;\n",
       "    }\n",
       "</style>\n",
       "<table border=\"1\" class=\"dataframe\">\n",
       "  <thead>\n",
       "    <tr style=\"text-align: right;\">\n",
       "      <th></th>\n",
       "      <th>topic</th>\n",
       "      <th>city</th>\n",
       "      <th>ads_text</th>\n",
       "      <th>price</th>\n",
       "      <th>seller</th>\n",
       "      <th>user_id</th>\n",
       "      <th>user_id_url</th>\n",
       "      <th>url</th>\n",
       "    </tr>\n",
       "  </thead>\n",
       "  <tbody>\n",
       "    <tr>\n",
       "      <th>8648</th>\n",
       "      <td>Сушеные шляпки красного мухомора</td>\n",
       "      <td>Москва, Боровское ш.</td>\n",
       "      <td>В вакуумной упаковке, сушка при 40 гр, только ...</td>\n",
       "      <td>1 300</td>\n",
       "      <td>TAMERLANCTROY</td>\n",
       "      <td>ad431fe4ca9b886aab19cd08d779dae5</td>\n",
       "      <td>https://www.avito.ru/user/ad431fe4ca9b886aab19...</td>\n",
       "      <td>https://www.avito.ru/moskva/produkty_pitaniya/...</td>\n",
       "    </tr>\n",
       "    <tr>\n",
       "      <th>6507</th>\n",
       "      <td>Чайный гриб - комбуча</td>\n",
       "      <td>Магаданская область, Магадан, Пролетарская ул....</td>\n",
       "      <td>Чайный гриб - ,,элексир жизни'', содержит проб...</td>\n",
       "      <td>350</td>\n",
       "      <td>Валентина</td>\n",
       "      <td>e0b251686dc732971c8c08dc4450782e</td>\n",
       "      <td>https://www.avito.ru/user/e0b251686dc732971c8c...</td>\n",
       "      <td>https://www.avito.ru/magadan/krasota_i_zdorove...</td>\n",
       "    </tr>\n",
       "  </tbody>\n",
       "</table>\n",
       "</div>"
      ],
      "text/plain": [
       "                                 topic  \\\n",
       "8648  Сушеные шляпки красного мухомора   \n",
       "6507             Чайный гриб - комбуча   \n",
       "\n",
       "                                                   city  \\\n",
       "8648                               Москва, Боровское ш.   \n",
       "6507  Магаданская область, Магадан, Пролетарская ул....   \n",
       "\n",
       "                                               ads_text  price         seller  \\\n",
       "8648  В вакуумной упаковке, сушка при 40 гр, только ...  1 300  TAMERLANCTROY   \n",
       "6507  Чайный гриб - ,,элексир жизни'', содержит проб...    350      Валентина   \n",
       "\n",
       "                               user_id  \\\n",
       "8648  ad431fe4ca9b886aab19cd08d779dae5   \n",
       "6507  e0b251686dc732971c8c08dc4450782e   \n",
       "\n",
       "                                            user_id_url  \\\n",
       "8648  https://www.avito.ru/user/ad431fe4ca9b886aab19...   \n",
       "6507  https://www.avito.ru/user/e0b251686dc732971c8c...   \n",
       "\n",
       "                                                    url  \n",
       "8648  https://www.avito.ru/moskva/produkty_pitaniya/...  \n",
       "6507  https://www.avito.ru/magadan/krasota_i_zdorove...  "
      ]
     },
     "execution_count": 3,
     "metadata": {},
     "output_type": "execute_result"
    }
   ],
   "source": [
    "mushrooms_avito.sample(2)"
   ]
  },
  {
   "cell_type": "code",
   "execution_count": null,
   "metadata": {},
   "outputs": [],
   "source": []
  },
  {
   "cell_type": "markdown",
   "metadata": {},
   "source": [
    "### Отбираю нужные строки ###"
   ]
  },
  {
   "cell_type": "code",
   "execution_count": 4,
   "metadata": {},
   "outputs": [],
   "source": [
    "# меняю ё на е\n",
    "\n",
    "mushrooms_avito.topic = mushrooms_avito.topic.str.replace('ё', 'е')\n",
    "mushrooms_avito.ads_text = mushrooms_avito.ads_text.str.replace('ё', 'е')"
   ]
  },
  {
   "cell_type": "code",
   "execution_count": 5,
   "metadata": {},
   "outputs": [],
   "source": [
    "# убираю переводы строки\n",
    "mushrooms_avito.ads_text = mushrooms_avito.ads_text.str.replace('\\n', ' ')"
   ]
  },
  {
   "cell_type": "code",
   "execution_count": 6,
   "metadata": {},
   "outputs": [],
   "source": [
    "# список грибов (включая чайный и рейши с кордицепсом)\n",
    "\n",
    "all_mushrooms = [\n",
    "    'amanita',\n",
    "    'chaga',\n",
    "    'ganoderma',\n",
    "    'grifola',\n",
    "    'maitake',\n",
    "    'reish',\n",
    "    'shiitake',\n",
    "    'агарик бразильский',\n",
    "    'агарикус',\n",
    "    'аманита',\n",
    "    'антродия',\n",
    "    'бeлые',\n",
    "    'баран',\n",
    "    'белого',\n",
    "    'белые',\n",
    "    'белый',\n",
    "    'белыми',\n",
    "    'белых',\n",
    "    'белянк',\n",
    "    'боровик',\n",
    "    'бычки',\n",
    "    'валуи',\n",
    "    'валуй',\n",
    "    'веселк',\n",
    "    'веселуш',\n",
    "    'вешенк',\n",
    "    'волжанк',\n",
    "    'волнух',\n",
    "    'волнуш',\n",
    "    'вороночник',\n",
    "    'ганодерм',\n",
    "    'гериций',\n",
    "    'герициум',\n",
    "    'гигрофор',\n",
    "    'гладушк',\n",
    "    'гладыш',\n",
    "    'говорушк',\n",
    "    'головач',\n",
    "    'горькушк',\n",
    "    'гребенчатый',\n",
    "    'грузд',\n",
    "    'дождевик',\n",
    "    'дорогие',\n",
    "    'дубовик',\n",
    "    'дуники',\n",
    "    'дуньк',\n",
    "    'ежевик',\n",
    "    'ежовик',\n",
    "    'еловик',\n",
    "    'забалуйк',\n",
    "    'заболуйк',\n",
    "    'зеленух',\n",
    "    'зеленушк',\n",
    "    'зонтик',\n",
    "    'камбуч',\n",
    "    'колпак',\n",
    "    'комбуч',\n",
    "    'кордицепс',\n",
    "    'коровник',\n",
    "    'красноголовик',\n",
    "    'кубар',\n",
    "    'кубышк',\n",
    "    'кулаки',\n",
    "    'кулачки',\n",
    "    'кулачок',\n",
    "    'кулочки',\n",
    "    'линчжи',\n",
    "    'липовк',\n",
    "    'лисичк',\n",
    "    'лубянк',\n",
    "    'майка',\n",
    "    'майтак',\n",
    "    'майтаке',\n",
    "    'масленок',\n",
    "    'маслят',\n",
    "    'мацутак',\n",
    "    'медвежье',\n",
    "    'мейтаке',\n",
    "    'микродозинг',\n",
    "    'млечник',\n",
    "    'молочник',\n",
    "    'морозик',\n",
    "    'мослят',\n",
    "    'моховик',\n",
    "    'мухомор',\n",
    "    'навозник',\n",
    "    'обабк',\n",
    "    'опенок',\n",
    "    'опят',\n",
    "    'пантерн',\n",
    "    'паутиник',\n",
    "    'паутинник',\n",
    "    'песочник',\n",
    "    'песчаник',\n",
    "    'поганк',\n",
    "    'податавник',\n",
    "    'подберезовик',\n",
    "    'подгрузок',\n",
    "    'поддубник',\n",
    "    'поддубовик',\n",
    "    'подорешник',\n",
    "    'подосиновик',\n",
    "    'подотавник',\n",
    "    'подтопол',\n",
    "    'полубел.',\n",
    "    'польский',\n",
    "    'попутк',\n",
    "    'попутниц',\n",
    "    'рейш',\n",
    "    'рыжик',\n",
    "    'рядовк',\n",
    "    'свинар',\n",
    "    'свину',\n",
    "    'серух',\n",
    "    'серушк',\n",
    "    'серянк',\n",
    "    'синеножк',\n",
    "    'синявк',\n",
    "    'синяя ножка',\n",
    "    'сморч',\n",
    "    'солонушк',\n",
    "    'соплюшки',\n",
    "    'строфария',\n",
    "    'строч',\n",
    "    'сыраешк',\n",
    "    'сыроежк',\n",
    "    'трамет',\n",
    "    'трутовик берез.',\n",
    "    'трутовик лакированный',\n",
    "    'трутовик лиственничный',\n",
    "    'трутовик ложный дубовый',\n",
    "    'трутовик настоящий',\n",
    "    'трутовик неизв.',\n",
    "    'трутовик окаймленный',\n",
    "    'трутовик осиновый',\n",
    "    'трутовик плоский',\n",
    "    'трутовик серно-желтый',\n",
    "    'трутовик смолистый',\n",
    "    'трутовик сосновый',\n",
    "    'трутовик яблоневый',\n",
    "    'трюфел',\n",
    "    'турки',\n",
    "    'фламмулин',\n",
    "    'чаг',\n",
    "    'чайный',\n",
    "    'чернушк',\n",
    "    'чесночник',\n",
    "    'чешутчатк',\n",
    "    'чинарик',\n",
    "    'шампин',\n",
    "    'шиитак',\n",
    "    'шитаки',\n",
    "    'эноки',\n",
    "    'ярсагумба'\n",
    "]"
   ]
  },
  {
   "cell_type": "code",
   "execution_count": 7,
   "metadata": {},
   "outputs": [
    {
     "data": {
      "text/plain": [
       "154"
      ]
     },
     "execution_count": 7,
     "metadata": {},
     "output_type": "execute_result"
    }
   ],
   "source": [
    "len(all_mushrooms)"
   ]
  },
  {
   "cell_type": "code",
   "execution_count": 8,
   "metadata": {},
   "outputs": [],
   "source": [
    "# словарь грибов: словоформа или синоним — название гриба (понадобится позже)\n",
    "\n",
    "mushrooms_dict = {\n",
    "    'amanita': 'мухомор',\n",
    "    'chaga': 'чага',\n",
    "    'ganoderma': 'трутовик лакированный (рейши)',\n",
    "    'grifola': 'грифола',\n",
    "    'maitake': 'грифола',\n",
    "    'reish': 'трутовик лакированный (рейши)',\n",
    "    'shiitake': 'шиитаке',\n",
    "    'агарик бразильский': 'агарик бразильский',\n",
    "    'агарикус': 'трутовик лиственничный',\n",
    "    'аманита': 'мухомор',\n",
    "    'антродия': 'антродия',\n",
    "    'бeлые': 'белый',\n",
    "    'баран': 'грифола',\n",
    "    'белого': 'белый',\n",
    "    'белые': 'белый',\n",
    "    'белый': 'белый',\n",
    "    'белыми': 'белый',\n",
    "    'белых': 'белый',\n",
    "    'белянк': 'волнушка белая',\n",
    "    'боровик': 'белый',\n",
    "    'бычки': 'валуй',\n",
    "    'валуи': 'валуй',\n",
    "    'валуй': 'валуй',\n",
    "    'веселк': 'веселка',\n",
    "    'веселуш': 'веселка',\n",
    "    'вешенк': 'вешенка',\n",
    "    'волжанк': 'волнушка розовая',\n",
    "    'волнух': 'волнушка',\n",
    "    'волнуш': 'волнушка',\n",
    "    'вороночник': 'вороночник',\n",
    "    'ганодерм': 'трутовик лакированный (рейши)',\n",
    "    'гериций': 'ежовик',\n",
    "    'герициум': 'ежовик',\n",
    "    'гигрофор': 'гигрофор',\n",
    "    'гладушк': 'млечник',\n",
    "    'гладыш': 'млечник',\n",
    "    'говорушк': 'говорушка (рядовка)',\n",
    "    'головач': 'головач (шампиньон)',\n",
    "    'горькушк': 'горькушка (рядовка)',\n",
    "    'гребенчатый': 'ежовик',\n",
    "    'грузд': 'груздь',\n",
    "    'дождевик': 'дождевик',\n",
    "    'дорогие': 'белый',\n",
    "    'дубовик': 'дубовик',\n",
    "    'дуники': 'свинушка тонкая',\n",
    "    'дуньк': 'свинушка тонкая',\n",
    "    'ежевик': 'ежовик',\n",
    "    'ежовик': 'ежовик',\n",
    "    'еловик': 'еловик',\n",
    "    'забалуйк': 'рядовка тополевая',\n",
    "    'заболуйк': 'рядовка тополевая',\n",
    "    'зеленух': 'зеленушка (рядовка)',\n",
    "    'зеленушк': 'зеленушка (рядовка)',\n",
    "    'зонтик': 'зонтик',\n",
    "    'камбуч': 'чайный гриб',\n",
    "    'колпак': 'колпак кольчатый',\n",
    "    'комбуч': 'чайный гриб',    \n",
    "    'кордицепс': 'кордицепс',\n",
    "    'коровник': 'свинушка тонкая',\n",
    "    'красноголовик': 'подосиновик',\n",
    "    'кубар': 'валуй',\n",
    "    'кубышк': 'валуй',\n",
    "    'кулаки': 'валуй',\n",
    "    'кулачки': 'валуй', \n",
    "    'кулачок': 'валуй',\n",
    "    'кулочки': 'валуй',\n",
    "    'линчжи': 'трутовик лакированный (рейши)',\n",
    "    'липовк': 'липовка',\n",
    "    'лисичк': 'лисичка',\n",
    "    'лубянк': 'горькушка (рядовка)',\n",
    "    'майка': 'рядовка майская',\n",
    "    'майтак': 'грифола',\n",
    "    'майтаке': 'грифола',\n",
    "    'масленок': 'масленок',\n",
    "    'маслят': 'масленок',\n",
    "    'мацутак': 'мацутакэ',\n",
    "    'медвежье': 'медвежье ушко',\n",
    "    'мейтаке': 'грифола',\n",
    "    'микродозинг': 'мухомор',\n",
    "    'млечник': 'млечник',\n",
    "    'молочник': 'млечник',\n",
    "    'морозик': 'рядовка тополевая',\n",
    "    'мослят': 'масленок',\n",
    "    'моховик': 'моховик',\n",
    "    'мухомор': 'мухомор',\n",
    "    'навозник': 'навозник',\n",
    "    'обабк': 'обабок',\n",
    "    'опенок': 'опенок',\n",
    "    'опят': 'опенок',\n",
    "    'пантерн': 'мухомор', \n",
    "    'паутиник': 'паутинник',\n",
    "    'паутинник': 'паутинник',\n",
    "    'песочник': 'рядовка тополевая',\n",
    "    'песчаник': 'рядовка тополевая',\n",
    "    'поганк': 'бледная поганка',\n",
    "    'податавник': 'рядовка лиловоногая',\n",
    "    'подберезовик': 'подберезовик',\n",
    "    'подгрузок': 'подгруздок (сыроежка)',\n",
    "    'поддубник': 'дубовик',\n",
    "    'поддубовик': 'дубовик',\n",
    "    'подорешник': 'подорешник',\n",
    "    'подосиновик': 'подосиновик',\n",
    "    'подотавник': 'рядовка лиловоногая',\n",
    "    'подтопол': 'рядовка тополевая',\n",
    "    'полубел.': 'полубелый',\n",
    "    'польский': 'польский гриб',\n",
    "    'попутк': 'серушка',\n",
    "    'попутниц': 'серушка',\n",
    "    'рейш': 'трутовик лакированный (рейши)',\n",
    "    'рыжик': 'рыжик',\n",
    "    'рядовк': 'рядовка',\n",
    "    'свинар': 'свинушка тонкая',\n",
    "    'свину': 'свинушка тонкая',\n",
    "    'серух': 'серушка',\n",
    "    'серушк': 'серушка',\n",
    "    'серянк': 'серушка',\n",
    "    'синеножк': 'рядовка лиловоногая',\n",
    "    'синявк': 'сыроежка',\n",
    "    'синяя ножка': 'рядовка лиловоногая',\n",
    "    'сморч': 'сморчок',\n",
    "    'солонушк': 'волнушка',\n",
    "    'соплюшки': 'валуй',\n",
    "    'строфария': 'строфария',\n",
    "    'строч': 'строчок',\n",
    "    'сыраешк': 'сыроежка',\n",
    "    'сыроежк': 'сыроежка',\n",
    "    'трамет': 'трутовик разноцветный',\n",
    "    'трутовик берез.': 'трутовик березовый',\n",
    "    'трутовик лакированный': 'трутовик лакированный (рейши)',\n",
    "    'трутовик лиственничный': 'трутовик лиственничный',\n",
    "    'трутовик ложный дубовый': 'трутовик ложный дубовый',\n",
    "    'трутовик настоящий': 'трутовик окаймленный',\n",
    "    'трутовик неизв.': 'просто трутовик',\n",
    "    'трутовик окаймленный': 'трутовик окаймленный',\n",
    "    'трутовик осиновый': 'трутовик осиновый',\n",
    "    'трутовик плоский': 'трутовик плоский',\n",
    "    'трутовик серно-желтый': 'трутовик серно-желтый',\n",
    "    'трутовик смолистый': 'трутовик смолистый',\n",
    "    'трутовик сосновый': 'трутовик окаймленный',\n",
    "    'трутовик яблоневый': 'трутовик яблоневый',\n",
    "    'трюфел': 'трюфель',\n",
    "    'турки': 'колпак кольчатый',\n",
    "    'фламмулин': 'фламмулина',\n",
    "    'чаг': 'чага',\n",
    "    'чайный': 'чайный гриб',\n",
    "    'чесночник': 'чесночник',\n",
    "    'чернушк': 'черный груздь',\n",
    "    'чешутчатк': 'чешутчатка',\n",
    "    'чинарик': 'вешенка',\n",
    "    'шампин': 'шампиньон',\n",
    "    'шиитак': 'шиитаке',\n",
    "    'шитаки': 'шиитаке',\n",
    "    'эноки': 'фламмулина',\n",
    "    'ярсагумба': 'кордицепс'\n",
    "}"
   ]
  },
  {
   "cell_type": "code",
   "execution_count": 9,
   "metadata": {},
   "outputs": [
    {
     "data": {
      "text/plain": [
       "154"
      ]
     },
     "execution_count": 9,
     "metadata": {},
     "output_type": "execute_result"
    }
   ],
   "source": [
    "len(mushrooms_dict)"
   ]
  },
  {
   "cell_type": "code",
   "execution_count": null,
   "metadata": {},
   "outputs": [],
   "source": []
  },
  {
   "cell_type": "code",
   "execution_count": 10,
   "metadata": {},
   "outputs": [
    {
     "name": "stdout",
     "output_type": "stream",
     "text": [
      "Wall time: 11.8 s\n"
     ]
    }
   ],
   "source": [
    "%%time\n",
    "\n",
    "# циклом выбираю нужные строки\n",
    "\n",
    "\n",
    "work_mushrooms_avito = pd.DataFrame()\n",
    "\n",
    "for mushroom in all_mushrooms:\n",
    "    temp_1 = mushrooms_avito[(mushrooms_avito.topic.str.contains(mushroom, case=False))]\n",
    "    temp_2 = mushrooms_avito[(mushrooms_avito.ads_text.str.contains(mushroom, case=False, na=False))]\n",
    "    \n",
    "    work_mushrooms_avito = work_mushrooms_avito.append(temp_1, ignore_index=True)\n",
    "    work_mushrooms_avito = work_mushrooms_avito.append(temp_2, ignore_index=True)"
   ]
  },
  {
   "cell_type": "code",
   "execution_count": 11,
   "metadata": {},
   "outputs": [
    {
     "data": {
      "text/plain": [
       "(17488, 8)"
      ]
     },
     "execution_count": 11,
     "metadata": {},
     "output_type": "execute_result"
    }
   ],
   "source": [
    "work_mushrooms_avito.shape"
   ]
  },
  {
   "cell_type": "code",
   "execution_count": 12,
   "metadata": {},
   "outputs": [],
   "source": [
    "# удаляю дубликаты\n",
    "\n",
    "work_mushrooms_avito = work_mushrooms_avito.drop_duplicates()"
   ]
  },
  {
   "cell_type": "code",
   "execution_count": 13,
   "metadata": {},
   "outputs": [
    {
     "data": {
      "text/plain": [
       "(7662, 8)"
      ]
     },
     "execution_count": 13,
     "metadata": {},
     "output_type": "execute_result"
    }
   ],
   "source": [
    "work_mushrooms_avito.shape"
   ]
  },
  {
   "cell_type": "code",
   "execution_count": null,
   "metadata": {},
   "outputs": [],
   "source": []
  },
  {
   "cell_type": "markdown",
   "metadata": {},
   "source": [
    "### Удаляю \"негрибные\" объявления ###\n",
    "\n",
    "О продаже антисептиков, приборов, косметики.\n",
    "\n",
    "Это неуниверсальный список: отбирал вручную. Остался от неэффективной чистки (когда пытался убрать лишнее, а не взять нужное).\n",
    "\n",
    "Все равно пришлось смотреть, что удаляю."
   ]
  },
  {
   "cell_type": "code",
   "execution_count": 14,
   "metadata": {
    "scrolled": true
   },
   "outputs": [],
   "source": [
    "# антисептики и дез.средства\n",
    "\n",
    "antiseptic = [\n",
    "    'дезсредство',\n",
    "    'паразиклин'\n",
    "]"
   ]
  },
  {
   "cell_type": "code",
   "execution_count": 15,
   "metadata": {
    "scrolled": true
   },
   "outputs": [],
   "source": [
    "# всякие приборы и бактерицидные лампы\n",
    "\n",
    "device = [    \n",
    "    'корректор',\n",
    "    'массаж',\n",
    "    'прибор для диагностики'\n",
    "]"
   ]
  },
  {
   "cell_type": "code",
   "execution_count": 16,
   "metadata": {
    "scrolled": true
   },
   "outputs": [],
   "source": [
    "# растения и удобрения\n",
    "\n",
    "plants = [\n",
    "    'кашпо',\n",
    "    'фигурки'\n",
    "]"
   ]
  },
  {
   "cell_type": "code",
   "execution_count": 17,
   "metadata": {
    "scrolled": true
   },
   "outputs": [],
   "source": [
    "# мыло, шампуни, кремы и т.п.\n",
    "\n",
    "cosmetics = [\n",
    "    'aven',\n",
    "    'avon',\n",
    "    'гель ',\n",
    "    'для волос',\n",
    "    'для глаз',\n",
    "    'для женщин',\n",
    "    'для кожи',\n",
    "    'для лица',\n",
    "    'для мужчин',\n",
    "    'для рук',\n",
    "    'для тела',\n",
    "    'духи',\n",
    "    'космети',\n",
    "    'крем',\n",
    "    'лосьон',\n",
    "    'мазь',\n",
    "    'маникю',\n",
    "    'маска',\n",
    "    'маски',\n",
    "    'мыло',\n",
    "    'парфюм',\n",
    "    'патч',\n",
    "    'пенка',\n",
    "    'салфетк',\n",
    "    'спрей',\n",
    "    'сыворотк',\n",
    "    'тоник',\n",
    "    'шампунь',\n",
    "    'эмульсия'\n",
    "]"
   ]
  },
  {
   "cell_type": "code",
   "execution_count": 18,
   "metadata": {},
   "outputs": [],
   "source": [
    "food = [\n",
    "    ' еда',\n",
    "    ' еду',\n",
    "    ' еды',\n",
    "    'landana',\n",
    "    'арахис',\n",
    "    'банкет',\n",
    "    'блин',\n",
    "    'блюда',\n",
    "    'борщ',\n",
    "    'вареник',\n",
    "    'выпечк',\n",
    "    'гречка',\n",
    "    'деликатесы',\n",
    "    'домашний сыр',\n",
    "    'еда на заказ',\n",
    "    'ж/б',\n",
    "    'колбас',\n",
    "    'конф',\n",
    "    'корейские',\n",
    "    'котлет',\n",
    "    'курица',\n",
    "    'курник',\n",
    "    'леденц',\n",
    "    'манты',\n",
    "    'мороженое',\n",
    "    'мясо утки',\n",
    "    'обжорка',\n",
    "    'обеды',\n",
    "    'орегано',\n",
    "    'орешки',\n",
    "    'пельме',\n",
    "    'пироги',\n",
    "    'пирож',\n",
    "    'пицц',\n",
    "    'по-корейски',\n",
    "    'повар',\n",
    "    'полуфабрикат',\n",
    "    'поросенок',\n",
    "    'пряности',\n",
    "    'пуэр',\n",
    "    'рулет',\n",
    "    'рулет',\n",
    "    'снек',\n",
    "    'снэк',\n",
    "    'соль пищевая',\n",
    "    'солянка',\n",
    "    'соус',\n",
    "    'специи',\n",
    "    'сыр ',\n",
    "    'сырный',\n",
    "    'том ям',\n",
    "    'торт',\n",
    "    'тушенка',\n",
    "    'хинкали',\n",
    "    'цейлонская корица',\n",
    "    'чабер',\n",
    "    'шашлы'\n",
    "]"
   ]
  },
  {
   "cell_type": "code",
   "execution_count": 19,
   "metadata": {
    "scrolled": true
   },
   "outputs": [],
   "source": [
    "# все остальное, в основном бады\n",
    "\n",
    "others = [\n",
    "    'agenyz',\n",
    "    'energy diet',\n",
    "    'fohow',\n",
    "    'ginseng',\n",
    "    'glucan',\n",
    "    'healthberry',\n",
    "    'iherb',\n",
    "    'lookfantastic',\n",
    "    'freedom',\n",
    "    'matrix',\n",
    "    'nutrilite',\n",
    "    'oraganic',\n",
    "    'research',\n",
    "    'sigmatic',\n",
    "    'slim',\n",
    "    'Витамин В17',\n",
    "    'Гримбирь',\n",
    "    'абисиб',\n",
    "    'артлайф',\n",
    "    'бад иммунный',\n",
    "    'бальзам',\n",
    "    'бизнес',\n",
    "    'биогенные',\n",
    "    'биотюн',\n",
    "    'благовони',\n",
    "    'бобра',\n",
    "    'витамины',\n",
    "    'витвмин',\n",
    "    'гост',\n",
    "    'детокс',\n",
    "    'дефенс',\n",
    "    'доставка продуктов',\n",
    "    'дуолайф',\n",
    "    'защита',\n",
    "    'камедь',\n",
    "    'килс',\n",
    "    'кислота',\n",
    "    'коктейль',\n",
    "    'костюм',\n",
    "    'коттедж',\n",
    "    'лигаста',\n",
    "    'люксмен',\n",
    "    'маслениц',\n",
    "    'муми',\n",
    "    'муравей',\n",
    "    'набор питания',\n",
    "    'новый год',\n",
    "    'пальметто',\n",
    "    'протекс',\n",
    "    'реклиманорм',\n",
    "    'рыбалка',\n",
    "    'светомузыка',\n",
    "    'сибирское',\n",
    "    'сироп от кашля',\n",
    "    'сок белого трюфел',\n",
    "    'сок трюфел',\n",
    "    'спортивные добавки',\n",
    "    'топиарн',\n",
    "    'фито-чай',\n",
    "    'фитокапсул',\n",
    "    'фитосбор',\n",
    "    'фиточай',\n",
    "    'фукоидан',\n",
    "    'хемо',\n",
    "    'хинди',\n",
    "    'холестерин',\n",
    "    'чистка',\n",
    "    'энзим'\n",
    "]"
   ]
  },
  {
   "cell_type": "code",
   "execution_count": 20,
   "metadata": {
    "scrolled": true
   },
   "outputs": [],
   "source": [
    "# создаю список списков \n",
    "\n",
    "no_mushrooms = [antiseptic, device, plants, cosmetics, food, others]"
   ]
  },
  {
   "cell_type": "code",
   "execution_count": 21,
   "metadata": {
    "scrolled": true
   },
   "outputs": [
    {
     "data": {
      "text/plain": [
       "(7662, 8)"
      ]
     },
     "execution_count": 21,
     "metadata": {},
     "output_type": "execute_result"
    }
   ],
   "source": [
    "work_mushrooms_avito.shape"
   ]
  },
  {
   "cell_type": "code",
   "execution_count": 22,
   "metadata": {
    "scrolled": true
   },
   "outputs": [
    {
     "name": "stdout",
     "output_type": "stream",
     "text": [
      "Wall time: 1.2 s\n"
     ]
    }
   ],
   "source": [
    "%%time\n",
    "\n",
    "# удаляю циклом строки с лишними корнями\n",
    "\n",
    "for unless_group in no_mushrooms:\n",
    "    \n",
    "    for unless in unless_group:\n",
    "        work_mushrooms_avito = work_mushrooms_avito[~(work_mushrooms_avito.topic.str.contains(unless, case=False))]"
   ]
  },
  {
   "cell_type": "code",
   "execution_count": 23,
   "metadata": {},
   "outputs": [
    {
     "data": {
      "text/plain": [
       "(7219, 8)"
      ]
     },
     "execution_count": 23,
     "metadata": {},
     "output_type": "execute_result"
    }
   ],
   "source": [
    "work_mushrooms_avito.shape"
   ]
  },
  {
   "cell_type": "code",
   "execution_count": 24,
   "metadata": {},
   "outputs": [],
   "source": [
    "# сохраняю в файл, чтобы дочистить вручную\n",
    "\n",
    "#work_mushrooms_avito.to_excel('C:/00_Projects/Rus_mushrooms/work.xlsx', index=False)"
   ]
  },
  {
   "cell_type": "code",
   "execution_count": null,
   "metadata": {
    "scrolled": true
   },
   "outputs": [],
   "source": []
  },
  {
   "cell_type": "markdown",
   "metadata": {},
   "source": [
    "### Грибы ###"
   ]
  },
  {
   "cell_type": "code",
   "execution_count": 33,
   "metadata": {},
   "outputs": [],
   "source": [
    "# загружаю очищенные вручную данные\n",
    "\n",
    "work = pd.read_excel('C:/00_Projects/Rus_mushrooms/work.xlsx', sheet_name='ads')"
   ]
  },
  {
   "cell_type": "code",
   "execution_count": 34,
   "metadata": {},
   "outputs": [
    {
     "data": {
      "text/html": [
       "<div>\n",
       "<style scoped>\n",
       "    .dataframe tbody tr th:only-of-type {\n",
       "        vertical-align: middle;\n",
       "    }\n",
       "\n",
       "    .dataframe tbody tr th {\n",
       "        vertical-align: top;\n",
       "    }\n",
       "\n",
       "    .dataframe thead th {\n",
       "        text-align: right;\n",
       "    }\n",
       "</style>\n",
       "<table border=\"1\" class=\"dataframe\">\n",
       "  <thead>\n",
       "    <tr style=\"text-align: right;\">\n",
       "      <th></th>\n",
       "      <th>topic</th>\n",
       "      <th>adress</th>\n",
       "      <th>region</th>\n",
       "      <th>city</th>\n",
       "      <th>ads_text</th>\n",
       "      <th>all_text</th>\n",
       "      <th>fabric</th>\n",
       "      <th>price</th>\n",
       "      <th>seller</th>\n",
       "      <th>user_id</th>\n",
       "      <th>user_id_url</th>\n",
       "      <th>url</th>\n",
       "    </tr>\n",
       "  </thead>\n",
       "  <tbody>\n",
       "    <tr>\n",
       "      <th>0</th>\n",
       "      <td>«Чага-чай» напиток из березовой чаги, 150 гр</td>\n",
       "      <td>Ростовская область, Ростов-на-Дону, микрорайон...</td>\n",
       "      <td>Ростовская область</td>\n",
       "      <td>Ростов-на-Дону</td>\n",
       "      <td>Березовая чага один из самых таинственных и по...</td>\n",
       "      <td>«Чага-чай» напиток из березовой чаги, 150 гр Б...</td>\n",
       "      <td>1</td>\n",
       "      <td>221</td>\n",
       "      <td>Магазин «Зеленщик»</td>\n",
       "      <td>c7550646475b641f6bce1928152c2563</td>\n",
       "      <td>https://www.avito.ru/user/c7550646475b641f6bce...</td>\n",
       "      <td>https://www.avito.ru/rostov-na-donu/produkty_p...</td>\n",
       "    </tr>\n",
       "    <tr>\n",
       "      <th>1</th>\n",
       "      <td>3 литра</td>\n",
       "      <td>Республика Карелия, Петрозаводский г.о., Петро...</td>\n",
       "      <td>Карелия</td>\n",
       "      <td>Петрозаводск</td>\n",
       "      <td>Грибы сушеные смесь подосиновики, подберезовик...</td>\n",
       "      <td>3 литра Грибы сушеные смесь подосиновики, подб...</td>\n",
       "      <td>0</td>\n",
       "      <td>1 000</td>\n",
       "      <td>Ира</td>\n",
       "      <td>db18a6a3b3671f1dcf3d11663f3e3a70</td>\n",
       "      <td>https://www.avito.ru/user/db18a6a3b3671f1dcf3d...</td>\n",
       "      <td>https://www.avito.ru/petrozavodsk/rasteniya/3_...</td>\n",
       "    </tr>\n",
       "  </tbody>\n",
       "</table>\n",
       "</div>"
      ],
      "text/plain": [
       "                                          topic  \\\n",
       "0  «Чага-чай» напиток из березовой чаги, 150 гр   \n",
       "1                                       3 литра   \n",
       "\n",
       "                                              adress              region  \\\n",
       "0  Ростовская область, Ростов-на-Дону, микрорайон...  Ростовская область   \n",
       "1  Республика Карелия, Петрозаводский г.о., Петро...             Карелия   \n",
       "\n",
       "             city                                           ads_text  \\\n",
       "0  Ростов-на-Дону  Березовая чага один из самых таинственных и по...   \n",
       "1    Петрозаводск  Грибы сушеные смесь подосиновики, подберезовик...   \n",
       "\n",
       "                                            all_text  fabric  price  \\\n",
       "0  «Чага-чай» напиток из березовой чаги, 150 гр Б...       1    221   \n",
       "1  3 литра Грибы сушеные смесь подосиновики, подб...       0  1 000   \n",
       "\n",
       "               seller                           user_id  \\\n",
       "0  Магазин «Зеленщик»  c7550646475b641f6bce1928152c2563   \n",
       "1                 Ира  db18a6a3b3671f1dcf3d11663f3e3a70   \n",
       "\n",
       "                                         user_id_url  \\\n",
       "0  https://www.avito.ru/user/c7550646475b641f6bce...   \n",
       "1  https://www.avito.ru/user/db18a6a3b3671f1dcf3d...   \n",
       "\n",
       "                                                 url  \n",
       "0  https://www.avito.ru/rostov-na-donu/produkty_p...  \n",
       "1  https://www.avito.ru/petrozavodsk/rasteniya/3_...  "
      ]
     },
     "execution_count": 34,
     "metadata": {},
     "output_type": "execute_result"
    }
   ],
   "source": [
    "work.head(2)"
   ]
  },
  {
   "cell_type": "code",
   "execution_count": 35,
   "metadata": {},
   "outputs": [],
   "source": [
    "# удаляю знаки все препинания из столбца mushrooms (topic+ads_text) и двойные пробелы [0-9]\n",
    "\n",
    "#work.all_text = work.all_text.str.replace(r'[^\\w\\s]+', ' ')\n",
    "#work.all_text = work.all_text.str.replace(r'[0-9]+', ' ')\n",
    "work.all_text = work.all_text.str.replace('  ', ' ')\n",
    "work.all_text = work.all_text.str.lower()"
   ]
  },
  {
   "cell_type": "code",
   "execution_count": 36,
   "metadata": {},
   "outputs": [],
   "source": [
    "# меняю тип столбца mushrooms, иначе поиск работать не будет\n",
    "\n",
    "work = work.astype({'all_text': 'str'})"
   ]
  },
  {
   "cell_type": "code",
   "execution_count": 37,
   "metadata": {},
   "outputs": [
    {
     "data": {
      "text/html": [
       "<div>\n",
       "<style scoped>\n",
       "    .dataframe tbody tr th:only-of-type {\n",
       "        vertical-align: middle;\n",
       "    }\n",
       "\n",
       "    .dataframe tbody tr th {\n",
       "        vertical-align: top;\n",
       "    }\n",
       "\n",
       "    .dataframe thead th {\n",
       "        text-align: right;\n",
       "    }\n",
       "</style>\n",
       "<table border=\"1\" class=\"dataframe\">\n",
       "  <thead>\n",
       "    <tr style=\"text-align: right;\">\n",
       "      <th></th>\n",
       "      <th>topic</th>\n",
       "      <th>adress</th>\n",
       "      <th>region</th>\n",
       "      <th>city</th>\n",
       "      <th>ads_text</th>\n",
       "      <th>all_text</th>\n",
       "      <th>fabric</th>\n",
       "      <th>price</th>\n",
       "      <th>seller</th>\n",
       "      <th>user_id</th>\n",
       "      <th>user_id_url</th>\n",
       "      <th>url</th>\n",
       "    </tr>\n",
       "  </thead>\n",
       "  <tbody>\n",
       "    <tr>\n",
       "      <th>1924</th>\n",
       "      <td>Грибы Рыжики</td>\n",
       "      <td>Красноярский край, Красноярск, Свердловский ра...</td>\n",
       "      <td>Красноярский край</td>\n",
       "      <td>Красноярск</td>\n",
       "      <td>Рыжики соленые. Горячего посола, с укропом и ч...</td>\n",
       "      <td>грибы рыжики рыжики соленые. горячего посола, ...</td>\n",
       "      <td>0</td>\n",
       "      <td>500</td>\n",
       "      <td>Дарья</td>\n",
       "      <td>23981f75b7eb50fe556851fd7b9f7db8</td>\n",
       "      <td>https://www.avito.ru/user/23981f75b7eb50fe5568...</td>\n",
       "      <td>https://www.avito.ru/krasnoyarsk/produkty_pita...</td>\n",
       "    </tr>\n",
       "  </tbody>\n",
       "</table>\n",
       "</div>"
      ],
      "text/plain": [
       "             topic                                             adress  \\\n",
       "1924  Грибы Рыжики  Красноярский край, Красноярск, Свердловский ра...   \n",
       "\n",
       "                 region        city  \\\n",
       "1924  Красноярский край  Красноярск   \n",
       "\n",
       "                                               ads_text  \\\n",
       "1924  Рыжики соленые. Горячего посола, с укропом и ч...   \n",
       "\n",
       "                                               all_text  fabric price seller  \\\n",
       "1924  грибы рыжики рыжики соленые. горячего посола, ...       0   500  Дарья   \n",
       "\n",
       "                               user_id  \\\n",
       "1924  23981f75b7eb50fe556851fd7b9f7db8   \n",
       "\n",
       "                                            user_id_url  \\\n",
       "1924  https://www.avito.ru/user/23981f75b7eb50fe5568...   \n",
       "\n",
       "                                                    url  \n",
       "1924  https://www.avito.ru/krasnoyarsk/produkty_pita...  "
      ]
     },
     "execution_count": 37,
     "metadata": {},
     "output_type": "execute_result"
    }
   ],
   "source": [
    "work.sample()"
   ]
  },
  {
   "cell_type": "code",
   "execution_count": 38,
   "metadata": {},
   "outputs": [],
   "source": [
    "# отбираю \"нефабричные\" грибы\n",
    "\n",
    "work_types = work.loc[work.fabric == 0]"
   ]
  },
  {
   "cell_type": "code",
   "execution_count": 39,
   "metadata": {},
   "outputs": [
    {
     "data": {
      "text/plain": [
       "(7084, 12)"
      ]
     },
     "execution_count": 39,
     "metadata": {},
     "output_type": "execute_result"
    }
   ],
   "source": [
    "work_types.shape"
   ]
  },
  {
   "cell_type": "code",
   "execution_count": null,
   "metadata": {},
   "outputs": [],
   "source": []
  },
  {
   "cell_type": "code",
   "execution_count": 40,
   "metadata": {},
   "outputs": [],
   "source": [
    "# функция, которая указывает виды грибов в объявлениях\n",
    "\n",
    "def find_need_root(column):\n",
    "    words = []\n",
    "    for root in all_mushrooms:\n",
    "        if root in str(column.all_text):\n",
    "            words += [mushrooms_dict[root]]\n",
    "            \n",
    "    words = list(set(words))\n",
    "    words.sort()\n",
    "    mushrooms = ' '.join(words)\n",
    "    \n",
    "    return words"
   ]
  },
  {
   "cell_type": "code",
   "execution_count": 41,
   "metadata": {},
   "outputs": [
    {
     "name": "stdout",
     "output_type": "stream",
     "text": [
      "Wall time: 6.4 s\n"
     ]
    },
    {
     "name": "stderr",
     "output_type": "stream",
     "text": [
      "C:\\Users\\Boris\\Anaconda3\\lib\\site-packages\\ipykernel_launcher.py:3: SettingWithCopyWarning: \n",
      "A value is trying to be set on a copy of a slice from a DataFrame.\n",
      "Try using .loc[row_indexer,col_indexer] = value instead\n",
      "\n",
      "See the caveats in the documentation: https://pandas.pydata.org/pandas-docs/stable/user_guide/indexing.html#returning-a-view-versus-a-copy\n",
      "  This is separate from the ipykernel package so we can avoid doing imports until\n"
     ]
    }
   ],
   "source": [
    "%%time\n",
    "\n",
    "# добавляю стобец с видами грибов в объявлении\n",
    "\n",
    "work_types['mushrooms'] = work_types.apply(find_need_root, axis=1)"
   ]
  },
  {
   "cell_type": "code",
   "execution_count": 42,
   "metadata": {},
   "outputs": [
    {
     "data": {
      "text/html": [
       "<div>\n",
       "<style scoped>\n",
       "    .dataframe tbody tr th:only-of-type {\n",
       "        vertical-align: middle;\n",
       "    }\n",
       "\n",
       "    .dataframe tbody tr th {\n",
       "        vertical-align: top;\n",
       "    }\n",
       "\n",
       "    .dataframe thead th {\n",
       "        text-align: right;\n",
       "    }\n",
       "</style>\n",
       "<table border=\"1\" class=\"dataframe\">\n",
       "  <thead>\n",
       "    <tr style=\"text-align: right;\">\n",
       "      <th></th>\n",
       "      <th>topic</th>\n",
       "      <th>adress</th>\n",
       "      <th>region</th>\n",
       "      <th>city</th>\n",
       "      <th>ads_text</th>\n",
       "      <th>all_text</th>\n",
       "      <th>fabric</th>\n",
       "      <th>price</th>\n",
       "      <th>seller</th>\n",
       "      <th>user_id</th>\n",
       "      <th>user_id_url</th>\n",
       "      <th>url</th>\n",
       "      <th>mushrooms</th>\n",
       "    </tr>\n",
       "  </thead>\n",
       "  <tbody>\n",
       "    <tr>\n",
       "      <th>6850</th>\n",
       "      <td>Чайный гриб</td>\n",
       "      <td>Санкт-Петербург, пр-т Науки, 28</td>\n",
       "      <td>Санкт-Петербург</td>\n",
       "      <td>Санкт-Петербург</td>\n",
       "      <td>Вкусный и полезный</td>\n",
       "      <td>чайный гриб вкусный и полезный</td>\n",
       "      <td>0</td>\n",
       "      <td>200</td>\n",
       "      <td>Елена</td>\n",
       "      <td>343a9e0b9b6a251c25763018ad9b3356</td>\n",
       "      <td>https://www.avito.ru/user/343a9e0b9b6a251c2576...</td>\n",
       "      <td>https://www.avito.ru/sankt-peterburg/krasota_i...</td>\n",
       "      <td>[чайный гриб]</td>\n",
       "    </tr>\n",
       "  </tbody>\n",
       "</table>\n",
       "</div>"
      ],
      "text/plain": [
       "            topic                           adress           region  \\\n",
       "6850  Чайный гриб  Санкт-Петербург, пр-т Науки, 28  Санкт-Петербург   \n",
       "\n",
       "                 city            ads_text                        all_text  \\\n",
       "6850  Санкт-Петербург  Вкусный и полезный  чайный гриб вкусный и полезный   \n",
       "\n",
       "      fabric price seller                           user_id  \\\n",
       "6850       0   200  Елена  343a9e0b9b6a251c25763018ad9b3356   \n",
       "\n",
       "                                            user_id_url  \\\n",
       "6850  https://www.avito.ru/user/343a9e0b9b6a251c2576...   \n",
       "\n",
       "                                                    url      mushrooms  \n",
       "6850  https://www.avito.ru/sankt-peterburg/krasota_i...  [чайный гриб]  "
      ]
     },
     "execution_count": 42,
     "metadata": {},
     "output_type": "execute_result"
    }
   ],
   "source": [
    "work_types.sample()"
   ]
  },
  {
   "cell_type": "code",
   "execution_count": 43,
   "metadata": {},
   "outputs": [],
   "source": [
    "# записываю результат\n",
    "\n",
    "#work_types.to_excel('C:/00_Projects/Rus_mushrooms/temp.xlsx', index=False)"
   ]
  },
  {
   "cell_type": "code",
   "execution_count": null,
   "metadata": {},
   "outputs": [],
   "source": []
  },
  {
   "cell_type": "code",
   "execution_count": 44,
   "metadata": {},
   "outputs": [],
   "source": [
    "# группирую по id продавца и суммирую виды грибов\n",
    "\n",
    "mushrooms_on_seller = (work_types\n",
    "                .groupby(['user_id'], as_index=False)\n",
    "                .agg({'mushrooms':'sum'})\n",
    "               )"
   ]
  },
  {
   "cell_type": "code",
   "execution_count": 45,
   "metadata": {},
   "outputs": [
    {
     "data": {
      "text/plain": [
       "(5615, 2)"
      ]
     },
     "execution_count": 45,
     "metadata": {},
     "output_type": "execute_result"
    }
   ],
   "source": [
    "mushrooms_on_seller.shape"
   ]
  },
  {
   "cell_type": "code",
   "execution_count": 46,
   "metadata": {},
   "outputs": [
    {
     "data": {
      "text/html": [
       "<div>\n",
       "<style scoped>\n",
       "    .dataframe tbody tr th:only-of-type {\n",
       "        vertical-align: middle;\n",
       "    }\n",
       "\n",
       "    .dataframe tbody tr th {\n",
       "        vertical-align: top;\n",
       "    }\n",
       "\n",
       "    .dataframe thead th {\n",
       "        text-align: right;\n",
       "    }\n",
       "</style>\n",
       "<table border=\"1\" class=\"dataframe\">\n",
       "  <thead>\n",
       "    <tr style=\"text-align: right;\">\n",
       "      <th></th>\n",
       "      <th>user_id</th>\n",
       "      <th>mushrooms</th>\n",
       "    </tr>\n",
       "  </thead>\n",
       "  <tbody>\n",
       "    <tr>\n",
       "      <th>3115</th>\n",
       "      <td>8ca043c05ee38000919c304047b888e9</td>\n",
       "      <td>[чага]</td>\n",
       "    </tr>\n",
       "    <tr>\n",
       "      <th>1957</th>\n",
       "      <td>57a1b28885ca08b951b637716df288d3</td>\n",
       "      <td>[мухомор]</td>\n",
       "    </tr>\n",
       "    <tr>\n",
       "      <th>4302</th>\n",
       "      <td>c47205f0c7978659e2f9638a1cf01f7e</td>\n",
       "      <td>[чага]</td>\n",
       "    </tr>\n",
       "  </tbody>\n",
       "</table>\n",
       "</div>"
      ],
      "text/plain": [
       "                               user_id  mushrooms\n",
       "3115  8ca043c05ee38000919c304047b888e9     [чага]\n",
       "1957  57a1b28885ca08b951b637716df288d3  [мухомор]\n",
       "4302  c47205f0c7978659e2f9638a1cf01f7e     [чага]"
      ]
     },
     "execution_count": 46,
     "metadata": {},
     "output_type": "execute_result"
    }
   ],
   "source": [
    "mushrooms_on_seller.sample(3)"
   ]
  },
  {
   "cell_type": "code",
   "execution_count": 47,
   "metadata": {},
   "outputs": [],
   "source": [
    "# функция для удаления повторов\n",
    "\n",
    "def drop_duplicates_mushrooms(df):\n",
    "    new = list(set(df.mushrooms))\n",
    "    new.sort()\n",
    "    \n",
    "    return new"
   ]
  },
  {
   "cell_type": "code",
   "execution_count": 48,
   "metadata": {},
   "outputs": [],
   "source": [
    "mushrooms_on_seller['mushroom_types'] = mushrooms_on_seller.apply(drop_duplicates_mushrooms, axis=1)"
   ]
  },
  {
   "cell_type": "code",
   "execution_count": 49,
   "metadata": {},
   "outputs": [],
   "source": [
    "#Записываю в файл\n",
    "\n",
    "#mushrooms_on_seller.to_excel('C:/00_Projects/Rus_mushrooms/temp.xlsx', index=False)"
   ]
  },
  {
   "cell_type": "code",
   "execution_count": null,
   "metadata": {},
   "outputs": [],
   "source": []
  },
  {
   "cell_type": "code",
   "execution_count": 50,
   "metadata": {},
   "outputs": [],
   "source": [
    "# группирую по id продавца и суммирую виды грибов\n",
    "\n",
    "mushrooms_on_region = (work_types\n",
    "                .groupby(['region', 'user_id'], as_index=False)\n",
    "                .agg({'mushrooms':'sum'})\n",
    "               )"
   ]
  },
  {
   "cell_type": "code",
   "execution_count": 51,
   "metadata": {},
   "outputs": [
    {
     "data": {
      "text/plain": [
       "(5881, 3)"
      ]
     },
     "execution_count": 51,
     "metadata": {},
     "output_type": "execute_result"
    }
   ],
   "source": [
    "mushrooms_on_region.shape"
   ]
  },
  {
   "cell_type": "code",
   "execution_count": 52,
   "metadata": {},
   "outputs": [],
   "source": [
    "# добавляю новый столбец без дубликатов\n",
    "\n",
    "mushrooms_on_region['mushroom_types'] = mushrooms_on_region.apply(drop_duplicates_mushrooms, axis=1)"
   ]
  },
  {
   "cell_type": "code",
   "execution_count": 53,
   "metadata": {},
   "outputs": [
    {
     "data": {
      "text/html": [
       "<div>\n",
       "<style scoped>\n",
       "    .dataframe tbody tr th:only-of-type {\n",
       "        vertical-align: middle;\n",
       "    }\n",
       "\n",
       "    .dataframe tbody tr th {\n",
       "        vertical-align: top;\n",
       "    }\n",
       "\n",
       "    .dataframe thead th {\n",
       "        text-align: right;\n",
       "    }\n",
       "</style>\n",
       "<table border=\"1\" class=\"dataframe\">\n",
       "  <thead>\n",
       "    <tr style=\"text-align: right;\">\n",
       "      <th></th>\n",
       "      <th>region</th>\n",
       "      <th>user_id</th>\n",
       "      <th>mushrooms</th>\n",
       "      <th>mushroom_types</th>\n",
       "    </tr>\n",
       "  </thead>\n",
       "  <tbody>\n",
       "    <tr>\n",
       "      <th>4637</th>\n",
       "      <td>Свердловская область</td>\n",
       "      <td>5ed882efc88bb27ae7a31924b0c82a57</td>\n",
       "      <td>[чага]</td>\n",
       "      <td>[чага]</td>\n",
       "    </tr>\n",
       "    <tr>\n",
       "      <th>3251</th>\n",
       "      <td>Новосибирская область</td>\n",
       "      <td>80c7ea9d5d6822b6b5f3104778fe2e80</td>\n",
       "      <td>[чайный гриб]</td>\n",
       "      <td>[чайный гриб]</td>\n",
       "    </tr>\n",
       "    <tr>\n",
       "      <th>1008</th>\n",
       "      <td>Кабардино-Балкария</td>\n",
       "      <td>aafefe9ee761ebd3fbaa8e441decb020</td>\n",
       "      <td>[опенок]</td>\n",
       "      <td>[опенок]</td>\n",
       "    </tr>\n",
       "  </tbody>\n",
       "</table>\n",
       "</div>"
      ],
      "text/plain": [
       "                     region                           user_id      mushrooms  \\\n",
       "4637   Свердловская область  5ed882efc88bb27ae7a31924b0c82a57         [чага]   \n",
       "3251  Новосибирская область  80c7ea9d5d6822b6b5f3104778fe2e80  [чайный гриб]   \n",
       "1008     Кабардино-Балкария  aafefe9ee761ebd3fbaa8e441decb020       [опенок]   \n",
       "\n",
       "     mushroom_types  \n",
       "4637         [чага]  \n",
       "3251  [чайный гриб]  \n",
       "1008       [опенок]  "
      ]
     },
     "execution_count": 53,
     "metadata": {},
     "output_type": "execute_result"
    }
   ],
   "source": [
    "mushrooms_on_region.sample(3)"
   ]
  },
  {
   "cell_type": "code",
   "execution_count": 54,
   "metadata": {},
   "outputs": [],
   "source": [
    "# группирую по регионам\n",
    "\n",
    "mushrooms_on_region_types = (mushrooms_on_region\n",
    "                .groupby(['region'], as_index=False)\n",
    "                .agg({'mushrooms':'sum'})\n",
    "               )"
   ]
  },
  {
   "cell_type": "code",
   "execution_count": 55,
   "metadata": {},
   "outputs": [
    {
     "data": {
      "text/html": [
       "<div>\n",
       "<style scoped>\n",
       "    .dataframe tbody tr th:only-of-type {\n",
       "        vertical-align: middle;\n",
       "    }\n",
       "\n",
       "    .dataframe tbody tr th {\n",
       "        vertical-align: top;\n",
       "    }\n",
       "\n",
       "    .dataframe thead th {\n",
       "        text-align: right;\n",
       "    }\n",
       "</style>\n",
       "<table border=\"1\" class=\"dataframe\">\n",
       "  <thead>\n",
       "    <tr style=\"text-align: right;\">\n",
       "      <th></th>\n",
       "      <th>region</th>\n",
       "      <th>mushrooms</th>\n",
       "    </tr>\n",
       "  </thead>\n",
       "  <tbody>\n",
       "    <tr>\n",
       "      <th>0</th>\n",
       "      <td>Адыгея</td>\n",
       "      <td>[мухомор, опенок, чага, чага, чайный гриб, веш...</td>\n",
       "    </tr>\n",
       "    <tr>\n",
       "      <th>1</th>\n",
       "      <td>Алтай</td>\n",
       "      <td>[мухомор, чага, груздь, рыжик, чага, трутовик ...</td>\n",
       "    </tr>\n",
       "    <tr>\n",
       "      <th>2</th>\n",
       "      <td>Алтайский край</td>\n",
       "      <td>[трутовик лакированный (рейши), мухомор, грузд...</td>\n",
       "    </tr>\n",
       "    <tr>\n",
       "      <th>3</th>\n",
       "      <td>Амурская область</td>\n",
       "      <td>[груздь, груздь, рыжик, чага, груздь, опенок, ...</td>\n",
       "    </tr>\n",
       "    <tr>\n",
       "      <th>4</th>\n",
       "      <td>Архангельская область</td>\n",
       "      <td>[чага, чага, белый, груздь, подосиновик, грузд...</td>\n",
       "    </tr>\n",
       "    <tr>\n",
       "      <th>...</th>\n",
       "      <td>...</td>\n",
       "      <td>...</td>\n",
       "    </tr>\n",
       "    <tr>\n",
       "      <th>73</th>\n",
       "      <td>Хакасия</td>\n",
       "      <td>[чайный гриб, груздь, рыжик, чага, груздь, чаг...</td>\n",
       "    </tr>\n",
       "    <tr>\n",
       "      <th>74</th>\n",
       "      <td>Челябинская область</td>\n",
       "      <td>[чайный гриб, чайный гриб, чайный гриб, чага, ...</td>\n",
       "    </tr>\n",
       "    <tr>\n",
       "      <th>75</th>\n",
       "      <td>Чечня</td>\n",
       "      <td>[чайный гриб]</td>\n",
       "    </tr>\n",
       "    <tr>\n",
       "      <th>76</th>\n",
       "      <td>Чувашия</td>\n",
       "      <td>[чага, груздь, лисичка, опенок, подосиновик, в...</td>\n",
       "    </tr>\n",
       "    <tr>\n",
       "      <th>77</th>\n",
       "      <td>Ярославская область</td>\n",
       "      <td>[мухомор, чайный гриб, чага, груздь, подгруздо...</td>\n",
       "    </tr>\n",
       "  </tbody>\n",
       "</table>\n",
       "<p>78 rows × 2 columns</p>\n",
       "</div>"
      ],
      "text/plain": [
       "                   region                                          mushrooms\n",
       "0                  Адыгея  [мухомор, опенок, чага, чага, чайный гриб, веш...\n",
       "1                   Алтай  [мухомор, чага, груздь, рыжик, чага, трутовик ...\n",
       "2          Алтайский край  [трутовик лакированный (рейши), мухомор, грузд...\n",
       "3        Амурская область  [груздь, груздь, рыжик, чага, груздь, опенок, ...\n",
       "4   Архангельская область  [чага, чага, белый, груздь, подосиновик, грузд...\n",
       "..                    ...                                                ...\n",
       "73                Хакасия  [чайный гриб, груздь, рыжик, чага, груздь, чаг...\n",
       "74    Челябинская область  [чайный гриб, чайный гриб, чайный гриб, чага, ...\n",
       "75                  Чечня                                      [чайный гриб]\n",
       "76                Чувашия  [чага, груздь, лисичка, опенок, подосиновик, в...\n",
       "77    Ярославская область  [мухомор, чайный гриб, чага, груздь, подгруздо...\n",
       "\n",
       "[78 rows x 2 columns]"
      ]
     },
     "execution_count": 55,
     "metadata": {},
     "output_type": "execute_result"
    }
   ],
   "source": [
    "mushrooms_on_region_types"
   ]
  },
  {
   "cell_type": "code",
   "execution_count": 56,
   "metadata": {},
   "outputs": [],
   "source": [
    "# типы грибов для таблицы\n",
    "\n",
    "mushrooms_types = list(set(mushrooms_dict.values()))\n",
    "mushrooms_types.sort()"
   ]
  },
  {
   "cell_type": "code",
   "execution_count": 57,
   "metadata": {},
   "outputs": [],
   "source": [
    "# функция, чтобы посчитать грибы по регионам\n",
    "\n",
    "def count_mushrooms(df):\n",
    "    return df.mushrooms.count(mushroom)   "
   ]
  },
  {
   "cell_type": "code",
   "execution_count": 58,
   "metadata": {},
   "outputs": [
    {
     "name": "stdout",
     "output_type": "stream",
     "text": [
      "Wall time: 166 ms\n"
     ]
    }
   ],
   "source": [
    "%%time\n",
    "\n",
    "# считаю грибы\n",
    "\n",
    "for mushroom in mushrooms_types:\n",
    "    mushrooms_on_region_types[mushroom] = mushrooms_on_region_types.apply(count_mushrooms, axis=1)    "
   ]
  },
  {
   "cell_type": "code",
   "execution_count": 59,
   "metadata": {},
   "outputs": [],
   "source": [
    "#Записываю в файл\n",
    "\n",
    "#mushrooms_on_region_types.to_excel('C:/00_Projects/Rus_mushrooms/temp.xlsx', index=False)"
   ]
  },
  {
   "cell_type": "code",
   "execution_count": 60,
   "metadata": {},
   "outputs": [],
   "source": [
    "# трансформирую список в колонке mushroom_types в строку\n",
    "\n",
    "mushrooms_on_region['new'] = mushrooms_on_region.mushroom_types.str[0]"
   ]
  },
  {
   "cell_type": "code",
   "execution_count": 61,
   "metadata": {},
   "outputs": [
    {
     "data": {
      "text/html": [
       "<div>\n",
       "<style scoped>\n",
       "    .dataframe tbody tr th:only-of-type {\n",
       "        vertical-align: middle;\n",
       "    }\n",
       "\n",
       "    .dataframe tbody tr th {\n",
       "        vertical-align: top;\n",
       "    }\n",
       "\n",
       "    .dataframe thead th {\n",
       "        text-align: right;\n",
       "    }\n",
       "</style>\n",
       "<table border=\"1\" class=\"dataframe\">\n",
       "  <thead>\n",
       "    <tr style=\"text-align: right;\">\n",
       "      <th></th>\n",
       "      <th>region</th>\n",
       "      <th>user_id</th>\n",
       "      <th>mushrooms</th>\n",
       "      <th>mushroom_types</th>\n",
       "      <th>new</th>\n",
       "    </tr>\n",
       "  </thead>\n",
       "  <tbody>\n",
       "    <tr>\n",
       "      <th>924</th>\n",
       "      <td>Ивановская область</td>\n",
       "      <td>f6f908805afbeed968808172ccf8af8b</td>\n",
       "      <td>[чага]</td>\n",
       "      <td>[чага]</td>\n",
       "      <td>чага</td>\n",
       "    </tr>\n",
       "    <tr>\n",
       "      <th>819</th>\n",
       "      <td>Воронежская область</td>\n",
       "      <td>d97188b863fbd8ddaadb00c2fdb03317</td>\n",
       "      <td>[вешенка]</td>\n",
       "      <td>[вешенка]</td>\n",
       "      <td>вешенка</td>\n",
       "    </tr>\n",
       "    <tr>\n",
       "      <th>2743</th>\n",
       "      <td>Московская область</td>\n",
       "      <td>2ad1bd316136a3f190bdc951415a3cd6</td>\n",
       "      <td>[чайный гриб]</td>\n",
       "      <td>[чайный гриб]</td>\n",
       "      <td>чайный гриб</td>\n",
       "    </tr>\n",
       "  </tbody>\n",
       "</table>\n",
       "</div>"
      ],
      "text/plain": [
       "                   region                           user_id      mushrooms  \\\n",
       "924    Ивановская область  f6f908805afbeed968808172ccf8af8b         [чага]   \n",
       "819   Воронежская область  d97188b863fbd8ddaadb00c2fdb03317      [вешенка]   \n",
       "2743   Московская область  2ad1bd316136a3f190bdc951415a3cd6  [чайный гриб]   \n",
       "\n",
       "     mushroom_types          new  \n",
       "924          [чага]         чага  \n",
       "819       [вешенка]      вешенка  \n",
       "2743  [чайный гриб]  чайный гриб  "
      ]
     },
     "execution_count": 61,
     "metadata": {},
     "output_type": "execute_result"
    }
   ],
   "source": [
    "mushrooms_on_region.sample(3)"
   ]
  },
  {
   "cell_type": "code",
   "execution_count": 62,
   "metadata": {},
   "outputs": [],
   "source": [
    "# удаляю объявления о продаже только одного чайного гриба \n",
    "\n",
    "number = mushrooms_on_region[~(mushrooms_on_region.new == 'чайный гриб')]"
   ]
  },
  {
   "cell_type": "code",
   "execution_count": 63,
   "metadata": {},
   "outputs": [],
   "source": [
    "# считаю количество объявлений по регионам\n",
    "\n",
    "regions = (number\n",
    "           .region.value_counts()\n",
    "           .reset_index()\n",
    "           .rename(columns={'region':'user_number','index':'region'})\n",
    "          )"
   ]
  },
  {
   "cell_type": "code",
   "execution_count": 64,
   "metadata": {},
   "outputs": [],
   "source": [
    "#regions.to_excel('C:/00_Projects/Rus_mushrooms/temp.xlsx', index=False)"
   ]
  },
  {
   "cell_type": "code",
   "execution_count": null,
   "metadata": {},
   "outputs": [],
   "source": []
  }
 ],
 "metadata": {
  "kernelspec": {
   "display_name": "Python 3",
   "language": "python",
   "name": "python3"
  },
  "language_info": {
   "codemirror_mode": {
    "name": "ipython",
    "version": 3
   },
   "file_extension": ".py",
   "mimetype": "text/x-python",
   "name": "python",
   "nbconvert_exporter": "python",
   "pygments_lexer": "ipython3",
   "version": "3.7.4"
  }
 },
 "nbformat": 4,
 "nbformat_minor": 2
}
