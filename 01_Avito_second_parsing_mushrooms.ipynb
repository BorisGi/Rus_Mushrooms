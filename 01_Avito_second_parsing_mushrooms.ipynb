{
 "cells": [
  {
   "cell_type": "markdown",
   "metadata": {},
   "source": [
    "Повторный парсинг не прогрузившихся объявлений"
   ]
  },
  {
   "cell_type": "code",
   "execution_count": 1,
   "metadata": {
    "scrolled": false
   },
   "outputs": [],
   "source": [
    "#Загружаем нужные библиотеки\n",
    "\n",
    "import pandas as pd\n",
    "\n",
    "from time import sleep\n",
    "\n",
    "from tqdm import tqdm_notebook\n",
    "\n",
    "from selenium.webdriver import Chrome\n",
    "from selenium.webdriver.support.ui import WebDriverWait as wait\n",
    "from selenium.common.exceptions import NoSuchElementException\n",
    "\n",
    "import os\n",
    "import re"
   ]
  },
  {
   "cell_type": "code",
   "execution_count": null,
   "metadata": {
    "scrolled": false
   },
   "outputs": [],
   "source": [
    "# вытаскиваем названия файлов в список file_list\n",
    "\n",
    "path_avito = 'C:/00_Projects/Rus_mushrooms/Parsing_results/Avito/'\n",
    "file_list = []\n",
    "\n",
    "\n",
    "for root, dirs, files in os.walk(path_avito):\n",
    "    \n",
    "    for filename in files:\n",
    "        file_list += [filename]      "
   ]
  },
  {
   "cell_type": "code",
   "execution_count": null,
   "metadata": {
    "scrolled": false
   },
   "outputs": [],
   "source": [
    "%%time\n",
    "\n",
    "# преобразовываю и объединяю в один датафрейм\n",
    "\n",
    "mushrooms_avito = pd.DataFrame()\n",
    "\n",
    "for i in file_list:\n",
    "    temp = pd.read_excel(path_avito + i)\n",
    "    \n",
    "    mushrooms_avito = mushrooms_avito.append(temp, ignore_index = True)"
   ]
  },
  {
   "cell_type": "code",
   "execution_count": null,
   "metadata": {
    "scrolled": false
   },
   "outputs": [],
   "source": [
    "mushrooms_avito.shape"
   ]
  },
  {
   "cell_type": "code",
   "execution_count": null,
   "metadata": {
    "scrolled": false
   },
   "outputs": [],
   "source": [
    "mushrooms_avito.sample(3)"
   ]
  },
  {
   "cell_type": "code",
   "execution_count": null,
   "metadata": {
    "scrolled": false
   },
   "outputs": [],
   "source": []
  },
  {
   "cell_type": "markdown",
   "metadata": {},
   "source": [
    "### Повторный парсинг ###\n",
    "\n",
    "Собираю незагрузившиеся объявления второй раз."
   ]
  },
  {
   "cell_type": "code",
   "execution_count": null,
   "metadata": {
    "scrolled": false
   },
   "outputs": [],
   "source": [
    "# нахожу урлы объявлений\n",
    "\n",
    "temp = mushrooms_avito[\n",
    "    (mushrooms_avito.topic == 'нет') |\n",
    "    (mushrooms_avito.city == 'нет') |\n",
    "    (mushrooms_avito.ads_text == 'нет')\n",
    "]"
   ]
  },
  {
   "cell_type": "code",
   "execution_count": null,
   "metadata": {
    "scrolled": false
   },
   "outputs": [],
   "source": [
    "temp.shape"
   ]
  },
  {
   "cell_type": "code",
   "execution_count": null,
   "metadata": {
    "scrolled": false
   },
   "outputs": [],
   "source": [
    "# удаляю из рабочего датафрейма строки с значением \"нет\"\n",
    "\n",
    "mushrooms_avito = mushrooms_avito[~(\n",
    "    (mushrooms_avito.topic == 'нет') |\n",
    "    (mushrooms_avito.city == 'нет') |\n",
    "    (mushrooms_avito.ads_text == 'нет')\n",
    ")]"
   ]
  },
  {
   "cell_type": "code",
   "execution_count": null,
   "metadata": {
    "scrolled": false
   },
   "outputs": [],
   "source": [
    "mushrooms_avito.shape"
   ]
  },
  {
   "cell_type": "code",
   "execution_count": null,
   "metadata": {},
   "outputs": [],
   "source": [
    "# записываю в список ссылки\n",
    "\n",
    "links = temp.url.to_list()"
   ]
  },
  {
   "cell_type": "code",
   "execution_count": null,
   "metadata": {
    "scrolled": false
   },
   "outputs": [],
   "source": [
    "len(links)"
   ]
  },
  {
   "cell_type": "code",
   "execution_count": null,
   "metadata": {
    "scrolled": false
   },
   "outputs": [],
   "source": [
    "# запускаю Хром\n",
    "\n",
    "driver = Chrome('C:/work/chromedriver/chromedriver.exe')"
   ]
  },
  {
   "cell_type": "code",
   "execution_count": null,
   "metadata": {
    "scrolled": false
   },
   "outputs": [],
   "source": [
    "%%time\n",
    "\n",
    "# список для данных\n",
    "data = []\n",
    "\n",
    "\n",
    "for url in tqdm_notebook(links):\n",
    "    \n",
    "    driver.get(url)\n",
    "    sleep(5)\n",
    "\n",
    "   \n",
    "    try:\n",
    "        topic = driver.find_element_by_class_name('title-info-title-text').text\n",
    "        \n",
    "    except:\n",
    "        topic = 'нет'\n",
    "        \n",
    "    \n",
    "    try:\n",
    "        seller = driver.find_element_by_class_name('seller-info-name').text\n",
    "        \n",
    "    except:\n",
    "        seller = 'нет'\n",
    "        \n",
    "    \n",
    "    try:\n",
    "        city = driver.find_element_by_class_name('item-address__string').text\n",
    "    \n",
    "    except:\n",
    "        city = 'нет'\n",
    "    \n",
    "    \n",
    "    try:\n",
    "        ads_text = driver.find_element_by_class_name('item-description-text').text\n",
    "        \n",
    "    except:\n",
    "        ads_text = 'нет'\n",
    "            \n",
    "    try:\n",
    "        price = driver.find_element_by_xpath('/html/body/div[3]/div[1]/div[3]/div[4]/div[2]/div[1]/div/div[1]/div/div[1]/div/div/span/span[1]').text\n",
    "        \n",
    "    except:\n",
    "        price = 'нет'\n",
    "        \n",
    "    try:\n",
    "        user_url = driver.find_element_by_class_name('seller-info-name.js-seller-info-name').find_element_by_tag_name('a').get_attribute('href')\n",
    "    \n",
    "    except:\n",
    "        user_url = 'нет'\n",
    "    \n",
    "    \n",
    "    data.append([topic, city, ads_text, price, seller, user_url, url])  \n",
    "    "
   ]
  },
  {
   "cell_type": "code",
   "execution_count": null,
   "metadata": {
    "scrolled": false
   },
   "outputs": [],
   "source": [
    "# преобразовываем в датафрейм\n",
    "\n",
    "head = ['topic', 'city', 'ads_text', 'price', 'seller', 'user_id', 'url']\n",
    "new = pd.DataFrame(data, columns=head)"
   ]
  },
  {
   "cell_type": "code",
   "execution_count": null,
   "metadata": {
    "scrolled": false
   },
   "outputs": [],
   "source": [
    "new.shape"
   ]
  },
  {
   "cell_type": "code",
   "execution_count": null,
   "metadata": {},
   "outputs": [],
   "source": [
    "# удаляю дубликаты\n",
    "\n",
    "new = new.drop_duplicates()"
   ]
  },
  {
   "cell_type": "code",
   "execution_count": null,
   "metadata": {},
   "outputs": [],
   "source": [
    "new.shape"
   ]
  },
  {
   "cell_type": "code",
   "execution_count": null,
   "metadata": {
    "scrolled": false
   },
   "outputs": [],
   "source": [
    "new.sample(3)"
   ]
  },
  {
   "cell_type": "code",
   "execution_count": null,
   "metadata": {},
   "outputs": [],
   "source": [
    "# удаляю объявления, которые не загрузились второй раз\n",
    "# это объявления, которые уже удалены или сняты с публикации\n",
    "\n",
    "new = new[~(\n",
    "    (new.topic == 'нет') |\n",
    "    (new.city == 'нет')\n",
    ")]"
   ]
  },
  {
   "cell_type": "code",
   "execution_count": null,
   "metadata": {},
   "outputs": [],
   "source": [
    "new.shape"
   ]
  },
  {
   "cell_type": "code",
   "execution_count": null,
   "metadata": {},
   "outputs": [],
   "source": [
    "# добавляю данные к основному фрейму\n",
    "\n",
    "mushrooms_avito = mushrooms_avito.append(new, ignore_index=True)"
   ]
  },
  {
   "cell_type": "code",
   "execution_count": null,
   "metadata": {},
   "outputs": [],
   "source": [
    "mushrooms_avito.shape"
   ]
  },
  {
   "cell_type": "code",
   "execution_count": null,
   "metadata": {},
   "outputs": [],
   "source": []
  },
  {
   "cell_type": "markdown",
   "metadata": {},
   "source": [
    "### Удаляю дубликаты ###"
   ]
  },
  {
   "cell_type": "code",
   "execution_count": null,
   "metadata": {},
   "outputs": [],
   "source": [
    "# создаю тестовый датафрейм\n",
    "\n",
    "test = mushrooms_avito[mushrooms_avito.duplicated(keep=False)]"
   ]
  },
  {
   "cell_type": "code",
   "execution_count": null,
   "metadata": {},
   "outputs": [],
   "source": [
    "# нахожу индексы повторябщихся строк\n",
    "\n",
    "print(test.groupby(test.columns.tolist()).apply(lambda x: x.index.tolist()).values.tolist())"
   ]
  },
  {
   "cell_type": "code",
   "execution_count": null,
   "metadata": {},
   "outputs": [],
   "source": [
    "# смотрю, что за строки\n",
    "\n",
    "mushrooms_avito.loc[[6729, 9152]]"
   ]
  },
  {
   "cell_type": "code",
   "execution_count": null,
   "metadata": {},
   "outputs": [],
   "source": [
    "# смотрю, что за строки\n",
    "\n",
    "mushrooms_avito.loc[[5482, 10200]]"
   ]
  },
  {
   "cell_type": "code",
   "execution_count": null,
   "metadata": {},
   "outputs": [],
   "source": [
    "mushrooms_avito.shape"
   ]
  },
  {
   "cell_type": "code",
   "execution_count": null,
   "metadata": {},
   "outputs": [],
   "source": [
    "mushrooms_avito = mushrooms_avito.drop_duplicates()"
   ]
  },
  {
   "cell_type": "code",
   "execution_count": null,
   "metadata": {},
   "outputs": [],
   "source": [
    "mushrooms_avito.shape"
   ]
  },
  {
   "cell_type": "code",
   "execution_count": null,
   "metadata": {},
   "outputs": [],
   "source": [
    "# записываю в файл\n",
    "\n",
    "mushrooms_avito.to_excel('C:/00_Projects/Rus_mushrooms/Avito.xlsx', index=False, encoding='utf-8')"
   ]
  },
  {
   "cell_type": "code",
   "execution_count": null,
   "metadata": {},
   "outputs": [],
   "source": []
  }
 ],
 "metadata": {
  "kernelspec": {
   "display_name": "Python 3",
   "language": "python",
   "name": "python3"
  },
  "language_info": {
   "codemirror_mode": {
    "name": "ipython",
    "version": 3
   },
   "file_extension": ".py",
   "mimetype": "text/x-python",
   "name": "python",
   "nbconvert_exporter": "python",
   "pygments_lexer": "ipython3",
   "version": "3.7.4"
  }
 },
 "nbformat": 4,
 "nbformat_minor": 2
}
